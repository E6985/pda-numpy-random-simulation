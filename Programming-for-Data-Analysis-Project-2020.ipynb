{
 "cells": [
  {
   "cell_type": "markdown",
   "metadata": {},
   "source": [
    "< [GMIT Data Analytics](https://web.archive.org/web/20201029063153/https://www.gmit.ie/computer-science-and-applied-physics/higher-diploma-science-computing-data-analytics-ict) | [Table of Contents](https://github.com/E6985) | [README](https://github.com/E6985/pda-numpy-random-simulation/blob/main/README.md) >\n",
    "\n",
    "![GMIT](https://github.com/E6985/pda-numpy-random/blob/main/img/gmit.png?raw=true)\n",
    "\n",
    "## Programming for Data Analysis - Project 2020\n",
    "## Due: last commit on or before December 21st, 2020\n",
    "## Extension: last commit on or before December 28th, 2020\n",
    "***"
   ]
  },
  {
   "cell_type": "markdown",
   "metadata": {},
   "source": [
    "<a id=\"top\"></a>\n",
    "< [README](https://github.com/E6985/pda-numpy-random-simulation/blob/main/README.md) | [References](#references) >\n",
    "\n",
    "## Problem statement\n",
    "For this project you must create a dataset by simulating a real-world phenomenon of your choosing. You may pick any phenomenon you wish – you might pick one that is of interest to you in your personal or professional life. Then, rather than collect data related to the phenomenon, you should model and synthesise such data using Python. We suggest you use the ``numpy.random`` package for this purpose.\n",
    "\n",
    "Specifically, in this project you should:\n",
    "\n",
    "[Task 1](#task-1). Choose a Real-world Phenomenon.\n",
    "\n",
    "> Real-world phenomenon that can be measured and for which you could collect at least one-hundred data points across at least four different variables.\n",
    "\n",
    "[Task 2](#task-2). Types of Variables - Distributions - Relationships.\n",
    "\n",
    "> Investigate the types of variables involved, their likely distributions, and their relationships with each other.\n",
    "\n",
    "[Task 3](#task-3). Synthesise/Simulate a Dataset.\n",
    "\n",
    "> Synthesise/simulate a dataset as closely matching their properties as possible.\n",
    "\n",
    "[Task 4](#task-4). Implement Simulation.\n",
    "\n",
    "> Implement the simulation in a Jupyter notebook – the dataset itself can simply be displayed in an output cell within the notebook.\n",
    "\n",
    "Note that this project is about simulation – you must synthesise a data set. Some students may already have some real-world datasets in their own files. It is okay to base your synthesised dataset on these should you wish (please reference it if you do), but the main task in this project is to create a synthesised dataset. The next section gives an example project idea.\n",
    "\n",
    "## Example project idea\n",
    "As a lecturer I might pick the real-world phenomenon of the performance of students studying a ten-credit module. After some research, I decide that the most interesting variable related to this is the mark a student receives in the module - this is going to be one of my variables ``(grade)``.\n",
    "\n",
    "Upon investigation of the problem, I find that the number of hours on average a student studies per week ``(hours)``, the number of times they log onto Moodle in the first three weeks of term ``(logins)``, and their previous level of degree qualification ``(qual)`` are closely related to grade. The ``hours`` and ``grade`` variables will be non-negative real number with two decimal places, ``logins`` will be a non-zero integer and ``qual`` will be a categorical variable with four possible values: ``none``, ``bachelors``, ``masters``, or ``phd``.\n",
    "\n",
    "After some online research, I find that full-time post-graduate students study on average four hours per week with a standard deviation of a quarter of an hour and that a normal distribution is an acceptable model of such a variable. Likewise, I investigate the other four variables, and I also look at the relationships between the variables. I devise an algorithm (or method) to generate such a dataset, simulating values of the four variables for two-hundred students. I detail all this work in my notebook, and then I add some code in to generate a dataset with those properties."
   ]
  },
  {
   "cell_type": "markdown",
   "metadata": {},
   "source": [
    "## END"
   ]
  },
  {
   "cell_type": "markdown",
   "metadata": {},
   "source": [
    "< [Problem statement](#top) | [README](https://github.com/E6985/pda-numpy-random-simulation/blob/main/README.md) | | [Task 2](#task-2) | [Task 3](#task-3) | [Task 4](#task-4) | [References](#references) >\n",
    "<a id=\"task-1\"></a>\n",
    "***\n",
    "## Task 1\n",
    "### Choose a Real-world phenomenon.\n",
    "***"
   ]
  },
  {
   "cell_type": "markdown",
   "metadata": {},
   "source": [
    "###### Phenomenon\n",
    "***"
   ]
  },
  {
   "cell_type": "markdown",
   "metadata": {},
   "source": [
    "- real-world phenomenon under investigation is the Republic of Ireland - Coronavirus - SARS-CoV-2 (Covid-19) Pandemic from day zero - 28th February, 2020 - to the lowest 14-day incidence rate recorded on July 3th, 2020 when the national 14-day incidence rate was 2.98 cases per 100,000 population [[...] Department of Health, \"Statement from the National Public Health Emergency Team - Thursday 22 October\", [gov](https://web.archive.org/web/20201211153653/https://www.gov.ie/en/press-release/6eb15-statement-from-the-national-public-health-emergency-team-thursday-22-october), October 2020.]"
   ]
  },
  {
   "cell_type": "markdown",
   "metadata": {},
   "source": [
    "###### Coronavirus\n",
    "***"
   ]
  },
  {
   "cell_type": "markdown",
   "metadata": {},
   "source": [
    "- coronaviruses are a large family of viruses causing illnesses which range from the common cold to much more severe respiratory illnesses such as Severe Acute Respiratory Syndrome (SARS) [[...] Government of Ireland, \"Ireland's National Action Plan in response to COVID-19 (Coronavirus),\" [emergencyplanning](http://web.archive.org/web/20201207192548/https://www.emergencyplanning.ie/en), p. 1, March 2020.]"
   ]
  },
  {
   "cell_type": "markdown",
   "metadata": {},
   "source": [
    "###### Covid-19\n",
    "***"
   ]
  },
  {
   "cell_type": "markdown",
   "metadata": {},
   "source": [
    "- Covid-19 is a new disease caused by a strain of coronavirus not seen in humans before December 2019 - as a result there is no immunity in the population which means that everyone is susceptible to infection - while there has being good news recently regarding vaccines - until the tests on the potential vaccines are complete and distributed to enough citizens then this disease still has the potential to spread widely - people can catch Covid-19 from others who have the virus through inhaling small droplets from people who cough or sneeze or through touching contaminated surfaces and then touching their face [[...] Government of Ireland, \"Ireland's National Action Plan in response to COVID-19 (Coronavirus),\" [emergencyplanning](http://web.archive.org/web/20201207192548/https://www.emergencyplanning.ie/en), p. 1, March 2020.]\n",
    "\n",
    "![covid-19](https://github.com/E6985/L8733/blob/master/src/hdp/pda/img/pda-numpy-random-simulation/covid-19.png?raw=true)\n",
    "\n",
    "***A. Eckert, D. Higgins, \"Disease caused by the novel coronavirus officially has a name: Covid-19,\" [statnews](http://web.archive.org/web/20201207194606/https://www.statnews.com/2020/02/11/disease-caused-by-the-novel-coronavirus-has-name-covid-19) February 2020.***"
   ]
  },
  {
   "cell_type": "markdown",
   "metadata": {},
   "source": [
    "###### Epidemic Investigation\n",
    "***"
   ]
  },
  {
   "cell_type": "markdown",
   "metadata": {},
   "source": [
    "- early stage of an epidemic if uncontrolled results in very rapid growth in the number of new infections ``cases`` - exponential growth [[...] P. Nolan, \"Live update on new coronavirus cases confirmed in Ireland (30/03/2020),\" [VirginMediaNews](https://web.archive.org/web/20201207122857if_/https://www.facebook.com/VirginMediaNews/videos/203845624391502), March 2020.]"
   ]
  },
  {
   "cell_type": "markdown",
   "metadata": {},
   "source": [
    "- the Irish Epidemiological Modelling Advisory Group (IEMAG) - forecasted what an unmitigated epidemic might look like if uncontrolled - predicting as many as 15,000 cases in Ireland by the 31st March - this was the driving force behind flattening the curve campaign early in the emergency [[...] P. Nolan, \"Live update on new coronavirus cases confirmed in Ireland (30/03/2020),\" [VirginMediaNews](https://web.archive.org/web/20201207122857if_/https://www.facebook.com/VirginMediaNews/videos/203845624391502), March 2020.]\n",
    "\n",
    "![flatten-curve](https://github.com/E6985/L8733/blob/master/src/hdp/pda/img/pda-numpy-random-simulation/flatten-curve.png?raw=true)\n",
    "\n",
    "***Department of Health, \"Lower & Delay the Epidemic Peak,\" [twitter](https://web.archive.org/web/20201127023317/https://twitter.com/CMOIreland/status/1239554134279360517/photo/1) March 2020.***"
   ]
  },
  {
   "cell_type": "markdown",
   "metadata": {},
   "source": [
    "> Zero Day"
   ]
  },
  {
   "cell_type": "markdown",
   "metadata": {},
   "source": [
    "- day zero of the epidemic was the 28th February when 1 case was notified on 29th February [[...] Department of Health, \"Statement from the National Public Health Emergency Team - Saturday 29 February,\" [gov](http://web.archive.org/web/20201207174242/https://www.gov.ie/en/press-release/2f75fd-statement-from-the-national-public-health-emergency-team-sat-29-feb), February 2020.] - in the early stages of the epidemic there was a day on day 33% growth rate of new cases - cumulative cases - each day 33% more cases than the preceding day [[...] P. Nolan, \"Live update on new coronavirus cases confirmed in Ireland (30/03/2020),\" [VirginMediaNews](https://web.archive.org/web/20201207122857if_/https://www.facebook.com/VirginMediaNews/videos/203845624391502), March 2020.]"
   ]
  },
  {
   "cell_type": "markdown",
   "metadata": {},
   "source": [
    "- by the 30th March the average of the preceding five days - ``[25th March, 29th March]`` - had a day on day 15% growth rate of new cases which was a huge decrease in the rate of exponential growth [[...] P. Nolan, \"Live update on new coronavirus cases confirmed in Ireland (30/03/2020),\" [VirginMediaNews](https://web.archive.org/web/20201207122857if_/https://www.facebook.com/VirginMediaNews/videos/203845624391502), March 2020.]"
   ]
  },
  {
   "cell_type": "markdown",
   "metadata": {},
   "source": [
    "> Testing Backlog"
   ]
  },
  {
   "cell_type": "markdown",
   "metadata": {},
   "source": [
    "- reporting of cumulative total cases - [10th April, 19th April] - appeared to show an increase in the number of people contracting the disease - this was due to a backlog of cases including results coming from German laboratories being included in the figures - previous testing constraints such as the shortage of reagents and long turnaround time for test results had led to underreporting [[...] F. Kelly, J. Power, \"Harris challenges HSE to speed up turnaround time for Covid-19 test results,\" [irishtimes](https://web.archive.org/web/20201211160620/https://www.irishtimes.com/news/health/coronavirus/harris-challenges-hse-to-speed-up-turnaround-time-for-covid-19-test-results-1.4228062), April 2020.][[...] Department of Health, \"Statement from the National Public Health Emergency Team - Friday 10 April\", [gov](https://web.archive.org/web/20201211152829/https://www.gov.ie/en/press-release/895657-statement-from-the-national-public-health-emergency-team-friday-10-a), April 2020.][[...] Department of Health, \"Statement from the National Public Health Emergency Team - Saturday 11 April\", [gov](https://web.archive.org/web/20201211152726/https://www.gov.ie/en/press-release/28cb70-statement-from-the-national-public-health-emergency-team-saturday-11), April 2020.][[...] Department of Health, \"Statement from the National Public Health Emergency Team - Sunday 12 April\", [gov](https://web.archive.org/web/20200815205120/https://www.gov.ie/en/press-release/ecbc11-statement-from-the-national-public-health-emergency-team-sunday-12-a), April 2020.][[...] Department of Health, \"Statement from the National Public Health Emergency Team - Monday 13 April\", [gov](https://web.archive.org/web/20201211152442/https://www.gov.ie/en/press-release/466968-statement-from-the-national-public-health-emergency-team-monday-13-a), April 2020.][[...] Department of Health, \"Statement from the National Public Health Emergency Team - Tuesday 14 April\", [gov](https://web.archive.org/web/20201211152331/https://www.gov.ie/en/press-release/17f5cb-statement-from-the-national-public-health-emergency-team-tuesday-14-), April 2020.][[...] Department of Health, \"Statement from the National Public Health Emergency Team - Wednesday 15 April\", [gov](https://web.archive.org/web/20201211152121/https://www.gov.ie/en/press-release/e2be7b-statement-from-the-national-public-health-emergency-team-wednesday-1), April 2020.][[...] Department of Health, \"Statement from the National Public Health Emergency Team - Thursday 16 April\", [gov](https://web.archive.org/web/20201211152034/https://www.gov.ie/en/press-release/0906df-statement-from-the-national-public-health-emergency-team-thursday-16), April 2020.][[...] Department of Health, \"Statement from the National Public Health Emergency Team - Friday 17 April\", [gov](https://web.archive.org/web/20201211151911/https://www.gov.ie/en/press-release/78ca7b-statement-from-the-national-public-health-emergency-team-friday-17-a), April 2020.][[...] Department of Health, \"Statement from the National Public Health Emergency Team - Saturday 18 April\", [gov](https://web.archive.org/web/20201211151747/https://www.gov.ie/en/press-release/03791b-statement-from-the-national-public-health-emergency-team-saturday-18), April 2020.][[...] Department of Health, \"Statement from the National Public Health Emergency Team - Sunday 19 April\", [gov](https://web.archive.org/web/20201211151409/https://www.gov.ie/en/press-release/2ebc1a-statement-from-the-national-public-health-emergency-team-sunday-19-a), April 2020.]"
   ]
  },
  {
   "cell_type": "markdown",
   "metadata": {},
   "source": [
    "> 16th April"
   ]
  },
  {
   "cell_type": "markdown",
   "metadata": {},
   "source": [
    "- log-linear - ``numpy.random.Generator.logistic`` - plots tend to be used to show epidemic tends because they show exponential growth as a straight line - any subtle changes in the growth rate of an epidemic will be evident on these plots [[...] P. Nolan, \"LIVE: Health officials confirm latest number of coronavirus cases and deaths (16/04/2020),\" [VirginMediaNews](https://web.archive.org/web/20201207123500if_/https://www.facebook.com/VirginMediaNews/videos/242266480512521), April 2020.][[...] Department of Health, \"COVID-19 modelling data - Thursday 16 April 2020,\" [gov](https://web.archive.org/web/20201119120437/https://www.gov.ie/en/publication/ea86cc-covid-19-modelling-data-thursday-16-april-2020), April 2020.]"
   ]
  },
  {
   "cell_type": "markdown",
   "metadata": {},
   "source": [
    "- ``cases`` parameter - cumulative number of cases - [29th February, 16th April] - with most of external tests results from the German laboratories backdated - positive increase on the vertical - y-axis - from day zero (first case on the 28th February) to over ten on the 1st March to over one-hundred on the 14th March and over one-thousand on the 23rd March - very quick growth rate shown as a straight line - rapid growth evident [[...] P. Nolan, \"LIVE: Health officials confirm latest number of coronavirus cases and deaths (16/04/2020),\" [VirginMediaNews](https://web.archive.org/web/20201207123500if_/https://www.facebook.com/VirginMediaNews/videos/242266480512521), April 2020.][[...] Department of Health, \"COVID-19 modelling data - Thursday 16 April 2020,\" [gov](https://web.archive.org/web/20201119120437/https://www.gov.ie/en/publication/ea86cc-covid-19-modelling-data-thursday-16-april-2020), April 2020.] "
   ]
  },
  {
   "cell_type": "markdown",
   "metadata": {},
   "source": [
    "- the slope of line rises very sharply in the early days of the epidemic - as mentioned there was a day on day 33% growth rate of new cases - cumulative cases - each day 33% more cases than the preceding day [[...] P. Nolan, \"LIVE: Health officials confirm latest number of coronavirus cases and deaths (16/04/2020),\" [VirginMediaNews](https://web.archive.org/web/20201207123500if_/https://www.facebook.com/VirginMediaNews/videos/242266480512521), April 2020.][[...] P. Nolan, \"Live update on new coronavirus cases confirmed in Ireland (30/03/2020),\" [VirginMediaNews](https://web.archive.org/web/20201207122857if_/https://www.facebook.com/VirginMediaNews/videos/203845624391502), March 2020.][[...] Department of Health, \"COVID-19 modelling data - Thursday 16 April 2020,\" [gov](https://web.archive.org/web/20201119120437/https://www.gov.ie/en/publication/ea86cc-covid-19-modelling-data-thursday-16-april-2020), April 2020.]"
   ]
  },
  {
   "cell_type": "markdown",
   "metadata": {},
   "source": [
    "- while the curve was not flatened there was a marked change in the growth rate in the number of cumulative cases at the begining of April [[...] P. Nolan, \"LIVE: Health officials confirm latest number of coronavirus cases and deaths (16/04/2020),\" [VirginMediaNews](https://web.archive.org/web/20201207123500if_/https://www.facebook.com/VirginMediaNews/videos/242266480512521), April 2020.][[...] Department of Health, \"COVID-19 modelling data - Thursday 16 April 2020,\" [gov](https://web.archive.org/web/20201119120437/https://www.gov.ie/en/publication/ea86cc-covid-19-modelling-data-thursday-16-april-2020), April 2020.]"
   ]
  },
  {
   "cell_type": "markdown",
   "metadata": {},
   "source": [
    "- ``hospital`` parameter - the same was true of hospitalizations which was growing very slowly at this stage [[...] P. Nolan, \"LIVE: Health officials confirm latest number of coronavirus cases and deaths (16/04/2020),\" [VirginMediaNews](https://web.archive.org/web/20201207123500if_/https://www.facebook.com/VirginMediaNews/videos/242266480512521), April 2020.][[...] Department of Health, \"COVID-19 modelling data - Thursday 16 April 2020,\" [gov](https://web.archive.org/web/20201119120437/https://www.gov.ie/en/publication/ea86cc-covid-19-modelling-data-thursday-16-april-2020), April 2020.]"
   ]
  },
  {
   "cell_type": "markdown",
   "metadata": {},
   "source": [
    "- ``icu`` parameter - cumulative admissions to intensive care - number of people ever been in intensive care in the country again the rate of growth in this parameter was slowing [[...] P. Nolan, \"LIVE: Health officials confirm latest number of coronavirus cases and deaths (16/04/2020),\" [VirginMediaNews](https://web.archive.org/web/20201207123500if_/https://www.facebook.com/VirginMediaNews/videos/242266480512521), April 2020.][[...] Department of Health, \"COVID-19 modelling data - Thursday 16 April 2020,\" [gov](https://web.archive.org/web/20201119120437/https://www.gov.ie/en/publication/ea86cc-covid-19-modelling-data-thursday-16-april-2020), April 2020.]"
   ]
  },
  {
   "cell_type": "markdown",
   "metadata": {},
   "source": [
    "- ``deaths`` parameter - while unfortunately the number of people dying continued to increase - again in this parameter the rate of growth of number was decreasing [[...] P. Nolan, \"LIVE: Health officials confirm latest number of coronavirus cases and deaths (16/04/2020),\" [VirginMediaNews](https://web.archive.org/web/20201207123500if_/https://www.facebook.com/VirginMediaNews/videos/242266480512521), April 2020.][[...] Department of Health, \"COVID-19 modelling data - Thursday 16 April 2020,\" [gov](https://web.archive.org/web/20201119120437/https://www.gov.ie/en/publication/ea86cc-covid-19-modelling-data-thursday-16-april-2020), April 2020.]"
   ]
  },
  {
   "cell_type": "markdown",
   "metadata": {},
   "source": [
    "- in each of the variables of interest - ``cases`` - ``hospital`` - ``icu`` - ``death`` - it was evident there was a considerable slowing in the growth of the epidemic [[...] P. Nolan, \"LIVE: Health officials confirm latest number of coronavirus cases and deaths (16/04/2020),\" [VirginMediaNews](https://web.archive.org/web/20201207123500if_/https://www.facebook.com/VirginMediaNews/videos/242266480512521), April 2020.][[...] Department of Health, \"COVID-19 modelling data - Thursday 16 April 2020,\" [gov](https://web.archive.org/web/20201119120437/https://www.gov.ie/en/publication/ea86cc-covid-19-modelling-data-thursday-16-april-2020), April 2020.]"
   ]
  },
  {
   "cell_type": "markdown",
   "metadata": {},
   "source": [
    "![log-linear-plot-28022020-16042020](https://github.com/E6985/L8733/blob/master/src/hdp/pda/img/pda-numpy-random-simulation/log-linear.png?raw=true)\n",
    "\n",
    "***Department of Health, \"COVID-19 modelling data - Thursday 16 April 2020,\" [gov](https://web.archive.org/web/20201119120437/https://www.gov.ie/en/publication/ea86cc-covid-19-modelling-data-thursday-16-april-2020), April 2020.***"
   ]
  },
  {
   "cell_type": "markdown",
   "metadata": {},
   "source": [
    "- ``cases`` parameter - [29th February, 16th April] - growth rate plotted -  cumulative number of cases for each day - percentage growth in the total number of cases compared to the preceding day and averaged over five days [[...] P. Nolan, \"LIVE: Health officials confirm latest number of coronavirus cases and deaths (16/04/2020),\" [VirginMediaNews](https://web.archive.org/web/20201207123500if_/https://www.facebook.com/VirginMediaNews/videos/242266480512521), April 2020.][[...] Department of Health, \"COVID-19 modelling data - Thursday 16 April 2020,\" [gov](https://web.archive.org/web/20201119120437/https://www.gov.ie/en/publication/ea86cc-covid-19-modelling-data-thursday-16-april-2020), April 2020.]"
   ]
  },
  {
   "cell_type": "markdown",
   "metadata": {},
   "source": [
    "- from 7th April (included) the growth rate of the cumulative number of cases (5-day average) was stable at approximately 5% [[...] P. Nolan, \"LIVE: Health officials confirm latest number of coronavirus cases and deaths (16/04/2020),\" [VirginMediaNews](https://web.archive.org/web/20201207123500if_/https://www.facebook.com/VirginMediaNews/videos/242266480512521), April 2020.][[...] Department of Health, \"COVID-19 modelling data - Thursday 16 April 2020,\" [gov](https://web.archive.org/web/20201119120437/https://www.gov.ie/en/publication/ea86cc-covid-19-modelling-data-thursday-16-april-2020), April 2020.]"
   ]
  },
  {
   "cell_type": "markdown",
   "metadata": {},
   "source": [
    "![log-linear-plot-28022020-16042020](https://github.com/E6985/L8733/blob/master/src/hdp/pda/img/pda-numpy-random-simulation/cases-growth-rate-cumulative-5-day-avg-04072020-04162020.png?raw=true)\n",
    "\n",
    "***Department of Health, \"COVID-19 modelling data - Thursday 16 April 2020,\" [gov](https://web.archive.org/web/20201119120437/https://www.gov.ie/en/publication/ea86cc-covid-19-modelling-data-thursday-16-april-2020), April 2020.***"
   ]
  },
  {
   "cell_type": "markdown",
   "metadata": {},
   "source": [
    "- the percentage of the number of new cases per day (5-day average) compared with the preceding day is plotted [[...] P. Nolan, \"LIVE: Health officials confirm latest number of coronavirus cases and deaths (16/04/2020),\" [VirginMediaNews](https://web.archive.org/web/20201207123500if_/https://www.facebook.com/VirginMediaNews/videos/242266480512521), April 2020.][[...] Department of Health, \"COVID-19 modelling data - Thursday 16 April 2020,\" [gov](https://web.archive.org/web/20201119120437/https://www.gov.ie/en/publication/ea86cc-covid-19-modelling-data-thursday-16-april-2020), April 2020.]"
   ]
  },
  {
   "cell_type": "markdown",
   "metadata": {},
   "source": [
    "- since the 3rd April the growth rate with the tests results from the German laboratories backdated was close to zero meaning there was very little growth in the epidemic during this period [[...] P. Nolan, \"LIVE: Health officials confirm latest number of coronavirus cases and deaths (16/04/2020),\" [VirginMediaNews](https://web.archive.org/web/20201207123500if_/https://www.facebook.com/VirginMediaNews/videos/242266480512521), April 2020.][[...] Department of Health, \"COVID-19 modelling data - Thursday 16 April 2020,\" [gov](https://web.archive.org/web/20201119120437/https://www.gov.ie/en/publication/ea86cc-covid-19-modelling-data-thursday-16-april-2020), April 2020.]"
   ]
  },
  {
   "cell_type": "markdown",
   "metadata": {},
   "source": [
    "![log-linear-plot-28022020-16042020](https://github.com/E6985/L8733/blob/master/src/hdp/pda/img/pda-numpy-random-simulation/cases-growth-rate-new-not-cumulative-5-day-avg-03182020-04162020.png?raw=true)\n",
    "\n",
    "***Department of Health, \"COVID-19 modelling data - Thursday 16 April 2020,\" [gov](https://web.archive.org/web/20201119120437/https://www.gov.ie/en/publication/ea86cc-covid-19-modelling-data-thursday-16-april-2020), April 2020.***"
   ]
  },
  {
   "cell_type": "markdown",
   "metadata": {},
   "source": [
    "- ``icu`` parameter - cumulative admissions to intensive care - reported by the HSE was stable again since the 3rd April [[...] P. Nolan, \"LIVE: Health officials confirm latest number of coronavirus cases and deaths (16/04/2020),\" [VirginMediaNews](https://web.archive.org/web/20201207123500if_/https://www.facebook.com/VirginMediaNews/videos/242266480512521), April 2020.][[...] Department of Health, \"COVID-19 modelling data - Thursday 16 April 2020,\" [gov](https://web.archive.org/web/20201119120437/https://www.gov.ie/en/publication/ea86cc-covid-19-modelling-data-thursday-16-april-2020), April 2020.]"
   ]
  },
  {
   "cell_type": "markdown",
   "metadata": {},
   "source": [
    "![log-linear-plot-28022020-16042020](https://github.com/E6985/L8733/blob/master/src/hdp/pda/img/pda-numpy-random-simulation/icu-03182020-04162020.png?raw=true)\n",
    "\n",
    "***Department of Health, \"COVID-19 modelling data - Thursday 16 April 2020,\" [gov](https://web.archive.org/web/20201119120437/https://www.gov.ie/en/publication/ea86cc-covid-19-modelling-data-thursday-16-april-2020), April 2020.***"
   ]
  },
  {
   "cell_type": "markdown",
   "metadata": {},
   "source": [
    "## END"
   ]
  },
  {
   "cell_type": "markdown",
   "metadata": {},
   "source": [
    "< [Problem statement](#top) | [README](https://github.com/E6985/pda-numpy-random-simulation/blob/main/README.md) | [Task 1](#task-1) | [Task 3](#task-3) | [Task 4](#task-4) | [References](#references) >\n",
    "<a id=\"task-2\"></a>\n",
    "***\n",
    "## Task 2\n",
    "### Types of Variables - Distributions - Relationships.\n",
    "***"
   ]
  },
  {
   "cell_type": "markdown",
   "metadata": {},
   "source": [
    "- variables of interest - Covid-19 related - i) cumulative daily number of infections - ``cases`` - ii) cumulative daily number of admissions to hospital - ``hospital`` - iii) cumulative daily number of admissions to intensive care units - ``icu`` - cumulative daily number of deaths - ``deaths`` [\n",
    "[...] No Reference.\n",
    "]"
   ]
  },
  {
   "cell_type": "markdown",
   "metadata": {},
   "source": [
    "## END"
   ]
  },
  {
   "cell_type": "markdown",
   "metadata": {},
   "source": [
    "< [Problem statement](#top) | [README](https://github.com/E6985/pda-numpy-random-simulation/blob/main/README.md) | [Task 1](#task-1) | [Task 2](#task-2) | [Task 4](#task-4) | [References](#references) >\n",
    "<a id=\"task-3\"></a>\n",
    "***\n",
    "## Task 3\n",
    "### Synthesise/Simulate a Dataset.\n",
    "***"
   ]
  },
  {
   "cell_type": "markdown",
   "metadata": {},
   "source": [
    "## END"
   ]
  },
  {
   "cell_type": "markdown",
   "metadata": {},
   "source": [
    "< [Problem statement](#top) | [README](https://github.com/E6985/pda-numpy-random-simulation/blob/main/README.md) | [Task 1](#task-1) | [Task 2](#task-2) | [Task 3](#task-3) | [References](#references) >\n",
    "<a id=\"task-4\"></a>\n",
    "***\n",
    "## Task 4\n",
    "### Implement Simulation.\n",
    "***"
   ]
  },
  {
   "cell_type": "markdown",
   "metadata": {},
   "source": [
    "## END"
   ]
  },
  {
   "cell_type": "markdown",
   "metadata": {},
   "source": [
    "< [Problem statement](#top) | [README](https://github.com/E6985/pda-numpy-random-simulation/blob/main/README.md) | [Task 1](#task-1) | [Task 2](#task-2) | [Task 3](#task-3) | [Task 4](#task-4) >\n",
    "<a id=\"references\"></a>\n",
    "***\n",
    "## References\n",
    "***\n",
    "&nbsp;&nbsp;&nbsp;&nbsp;&nbsp;&nbsp;&nbsp;&nbsp;&nbsp;[1] authorNames, referenceTitle, locationWebsiteBookVideo, dateMonthYear.\n",
    "\n",
    "&nbsp;&nbsp;&nbsp;&nbsp;&nbsp;&nbsp;&nbsp;[10]\n",
    "\n",
    "&nbsp;&nbsp;&nbsp;&nbsp;&nbsp;[100]\n",
    "\n",
    "&nbsp;&nbsp;&nbsp;[1000]\n",
    "***"
   ]
  },
  {
   "cell_type": "markdown",
   "metadata": {},
   "source": [
    "## END"
   ]
  },
  {
   "cell_type": "markdown",
   "metadata": {},
   "source": [
    "< [Problem statement](#top) | [README](https://github.com/E6985/pda-numpy-random-simulation/blob/main/README.md) | [Task 1](#task-1) | [Task 2](#task-2) | [Task 3](#task-3) | [Task 4](#task-4) | [References](#references) >\n",
    "<a id=\"appendix\"></a>\n",
    "***\n",
    "## Appendix\n",
    "***"
   ]
  },
  {
   "cell_type": "markdown",
   "metadata": {},
   "source": [
    "## END"
   ]
  },
  {
   "cell_type": "markdown",
   "metadata": {},
   "source": [
    "# END JUPYTER NOTEBOOK"
   ]
  }
 ],
 "metadata": {
  "kernelspec": {
   "display_name": "Python 3",
   "language": "python",
   "name": "python3"
  },
  "language_info": {
   "codemirror_mode": {
    "name": "ipython",
    "version": 3
   },
   "file_extension": ".py",
   "mimetype": "text/x-python",
   "name": "python",
   "nbconvert_exporter": "python",
   "pygments_lexer": "ipython3",
   "version": "3.8.3"
  }
 },
 "nbformat": 4,
 "nbformat_minor": 4
}
