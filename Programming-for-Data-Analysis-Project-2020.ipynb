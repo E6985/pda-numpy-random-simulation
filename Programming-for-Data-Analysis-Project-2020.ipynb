{
 "cells": [
  {
   "cell_type": "markdown",
   "metadata": {},
   "source": [
    "< [GMIT Data Analytics](https://web.archive.org/web/20201029063153/https://www.gmit.ie/computer-science-and-applied-physics/higher-diploma-science-computing-data-analytics-ict) | [Table of Contents](https://github.com/E6985) | [README](https://github.com/E6985/pda-numpy-random-simulation/blob/main/README.md) >\n",
    "\n",
    "![GMIT](https://github.com/E6985/pda-numpy-random/blob/main/img/gmit.png?raw=true)\n",
    "\n",
    "## Programming for Data Analysis - Project 2020\n",
    "## Due: last commit on or before December 21st, 2020\n",
    "## Extension: last commit on or before January 3rd, 2021\n",
    "***"
   ]
  },
  {
   "cell_type": "markdown",
   "metadata": {},
   "source": [
    "<a id=\"top\"></a>\n",
    "< [README](https://github.com/E6985/pda-numpy-random-simulation/blob/main/README.md) | [Project Plan](#project-plan) | [References](#references) >\n",
    "\n",
    "## Problem statement\n",
    "For this project you must create a dataset by simulating a real-world phenomenon of your choosing. You may pick any phenomenon you wish – you might pick one that is of interest to you in your personal or professional life. Then, rather than collect data related to the phenomenon, you should model and synthesise such data using Python. We suggest you use the ``numpy.random`` package for this purpose.\n",
    "\n",
    "Specifically, in this project you should:\n",
    "\n",
    "[Task 1](#task-1). Choose a Real-world Phenomenon.\n",
    "\n",
    "> Real-world phenomenon that can be measured and for which you could collect at least one-hundred data points across at least four different variables.\n",
    "\n",
    "[Task 2](#task-2). Types of Variables - Distributions - Relationships.\n",
    "\n",
    "> Investigate the types of variables involved, their likely distributions, and their relationships with each other.\n",
    "\n",
    "[Task 3](#task-3). Synthesise/Simulate a Dataset.\n",
    "\n",
    "> Synthesise/simulate a dataset as closely matching their properties as possible.\n",
    "\n",
    "[Task 4](#task-4). Implement Simulation.\n",
    "\n",
    "> Implement the simulation in a Jupyter notebook – the dataset itself can simply be displayed in an output cell within the notebook.\n",
    "\n",
    "Note that this project is about simulation – you must synthesise a data set. Some students may already have some real-world datasets in their own files. It is okay to base your synthesised dataset on these should you wish (please reference it if you do), but the main task in this project is to create a synthesised dataset. The next section gives an example project idea.\n",
    "\n",
    "## Example project idea\n",
    "As a lecturer I might pick the real-world phenomenon of the performance of students studying a ten-credit module. After some research, I decide that the most interesting variable related to this is the mark a student receives in the module - this is going to be one of my variables ``(grade)``.\n",
    "\n",
    "Upon investigation of the problem, I find that the number of hours on average a student studies per week ``(hours)``, the number of times they log onto Moodle in the first three weeks of term ``(logins)``, and their previous level of degree qualification ``(qual)`` are closely related to grade. The ``hours`` and ``grade`` variables will be non-negative real number with two decimal places, ``logins`` will be a non-zero integer and ``qual`` will be a categorical variable with four possible values: ``none``, ``bachelors``, ``masters``, or ``phd``.\n",
    "\n",
    "After some online research, I find that full-time post-graduate students study on average four hours per week with a standard deviation of a quarter of an hour and that a normal distribution is an acceptable model of such a variable. Likewise, I investigate the other four variables, and I also look at the relationships between the variables. I devise an algorithm (or method) to generate such a dataset, simulating values of the four variables for two-hundred students. I detail all this work in my notebook, and then I add some code in to generate a dataset with those properties.\n",
    "\n",
    "<!--\n",
    "1] B. McGinley, \"Project Programming for Data Analysis,\" GMIT, November 2020.\n",
    "-->"
   ]
  },
  {
   "cell_type": "markdown",
   "metadata": {},
   "source": [
    "< [Problem statement](#top) | [README](https://github.com/E6985/pda-numpy-random-simulation/blob/main/README.md) | [Task 1](#task-1) | [Task 2](#task-2) | [Task 3](#task-3) | [Task 4](#task-4) | [References](#references) >\n",
    "<a id=\"project-plan\"></a>\n",
    "## Project Plan\n",
    "### Living document updated throughout the lifecycle of the Project.\n",
    "***"
   ]
  },
  {
   "cell_type": "markdown",
   "metadata": {},
   "source": [
    "- summarising the project throughout its lifecycle in conjunction with git commit history [1]\n",
    "\n",
    "<!--\n",
    "[1] No Reference.\n",
    "-->"
   ]
  },
  {
   "cell_type": "markdown",
   "metadata": {},
   "source": [
    "###### References\n",
    "***"
   ]
  },
  {
   "cell_type": "markdown",
   "metadata": {},
   "source": [
    "- references (source) to be included in markdown cells - comment out until closer to the deadline at which point uncomment and move all to section ``\"References\"`` [1]\n",
    "\n",
    "<!--\n",
    "[1] No Reference.\n",
    "-->"
   ]
  },
  {
   "cell_type": "markdown",
   "metadata": {},
   "source": [
    "###### Date Representation\n",
    "***"
   ]
  },
  {
   "cell_type": "markdown",
   "metadata": {},
   "source": [
    "- ISO 8601 standard provides for an unambiguous calendar-and-clock format that is internationally understood [1] and provides the example ``1985-04-12/06-25`` for a time interval starting at 12 April 1985 and ending on 25 June 1985 [2] \n",
    "\n",
    "\n",
    "- notebook will use the ISO 8601 standard wrapping the time period within either a closed interval in which all limit points are included [2] - $[{1985}-{04}-{12} / {06}-{25}]$ - or a half-closed interval in which one endpoint is included but not the other [4] - $[{1985}-{04}-{12} / {06}-{25})$ - $({1985}-{04}-{12} / {06}-{25}]$ - presented before further analysis of the time period [5]\n",
    "\n",
    "<!--\n",
    "[1] International Standards Organisation, \"ISO 8601 Date and time format,\" [iso](https://web.archive.org/web/20201218180141/https://www.iso.org/iso-8601-date-and-time-format.html), n.d.\n",
    "\n",
    "[2] H. Malmedal, \"Range of Dates (1999-01 — 2012-12)?,\" [tex.stackexchange](https://web.archive.org/web/20201214104244/https://tex.stackexchange.com/questions/54859/range-of-dates-1999-01-2012-12?noredirect=1&lq=1), May 2012.\n",
    "\n",
    "[3] Wolfram \"Closed Interval,\" [mathworld.wolfram](https://web.archive.org/web/20201214104047/https://mathworld.wolfram.com/ClosedInterval.html), n.d.\n",
    "\n",
    "[4] Wolfram, \"Half-Closed Interval,\" [mathworld.wolfram](https://web.archive.org/web/20201106190646/https://mathworld.wolfram.com/Half-ClosedInterval.html), Ootober 2020.\n",
    "\n",
    "[5] No Reference.\n",
    "-->"
   ]
  },
  {
   "cell_type": "markdown",
   "metadata": {},
   "source": [
    "## END"
   ]
  },
  {
   "cell_type": "markdown",
   "metadata": {},
   "source": [
    "< [Problem statement](#top) | [README](https://github.com/E6985/pda-numpy-random-simulation/blob/main/README.md) | [Project Plan](#project-plan) | [Task 2](#task-2) | [Task 3](#task-3) | [Task 4](#task-4) | [References](#references) >\n",
    "<a id=\"task-1\"></a>\n",
    "***\n",
    "## Task 1\n",
    "### Choose a Real-world phenomenon.\n",
    "***"
   ]
  },
  {
   "cell_type": "markdown",
   "metadata": {},
   "source": [
    "### Phenomenon\n",
    "***"
   ]
  },
  {
   "cell_type": "markdown",
   "metadata": {},
   "source": [
    "- $[{2020}-{02}-{28} / {07}-{03}]$ - real-world phenomenon under investigation is the Republic of Ireland - Coronavirus - SARS-CoV-2 (Covid-19) Pandemic from day zero on 28th February, 2020 [1] to the lowest 14-day incidence rate recorded on July 3th, 2020 when the national 14-day incidence rate was 2.98 cases per 100,000 population [2]\n",
    "\n",
    "<!--\n",
    "[1] Department of Health, \"Statement from the National Public Health Emergency Team - Saturday 29 February,\" [gov](http://web.archive.org/web/20201207174242/https://www.gov.ie/en/press-release/2f75fd-statement-from-the-national-public-health-emergency-team-sat-29-feb), February 2020.\n",
    "\n",
    "[2] Department of Health, \"Statement from the National Public Health Emergency Team - Thursday 22 October,\" [gov](https://web.archive.org/web/20201211153653/https://www.gov.ie/en/press-release/6eb15-statement-from-the-national-public-health-emergency-team-thursday-22-october), October 2020.\n",
    "-->"
   ]
  },
  {
   "cell_type": "markdown",
   "metadata": {},
   "source": [
    "### Coronavirus\n",
    "***"
   ]
  },
  {
   "cell_type": "markdown",
   "metadata": {},
   "source": [
    "- coronaviruses are a large family of viruses causing illnesses which range from the common cold to much more severe respiratory illnesses such as Severe Acute Respiratory Syndrome (SARS) [1]\n",
    "\n",
    "<!--\n",
    "[1] Government of Ireland, \"Ireland's National Action Plan in response to COVID-19 (Coronavirus),\" [emergencyplanning](http://web.archive.org/web/20201207192548/https://www.emergencyplanning.ie/en), p. 1, March 2020.\n",
    "-->"
   ]
  },
  {
   "cell_type": "markdown",
   "metadata": {},
   "source": [
    "### Covid-19\n",
    "***"
   ]
  },
  {
   "cell_type": "markdown",
   "metadata": {},
   "source": [
    "[<img style=\"float:right;\" src=\"img/covid-19.png\" target=\"_blank\" width=200/>](https://github.com/E6985/pda-numpy-random-simulation/blob/main/img/covid-19.png)\n",
    "\n",
    "- Covid-19 is a new disease caused by a strain of coronavirus not seen in humans before December 2019 - as a result there is no immunity in the population which means that everyone is susceptible to infection - people can catch Covid-19 from others who have the virus through inhaling small droplets from coughing or sneezing or touching contaminated surfaces and then touching their face [1]\n",
    "\n",
    "<!--\n",
    "[1] Government of Ireland, \"Ireland's National Action Plan in response to COVID-19 (Coronavirus),\" [emergencyplanning](http://web.archive.org/web/20201207192548/https://www.emergencyplanning.ie/en), p. 1, March 2020.\n",
    "-->"
   ]
  },
  {
   "cell_type": "markdown",
   "metadata": {},
   "source": [
    "***(Image) A. Eckert, D. Higgins, \"Disease caused by the novel coronavirus officially has a name: Covid-19,\" [statnews](http://web.archive.org/web/20201207194606/https://www.statnews.com/2020/02/11/disease-caused-by-the-novel-coronavirus-has-name-covid-19) February 2020.***"
   ]
  },
  {
   "cell_type": "markdown",
   "metadata": {},
   "source": [
    "### Epidemic Investigation\n",
    "***"
   ]
  },
  {
   "cell_type": "markdown",
   "metadata": {},
   "source": [
    "[<img style=\"float:right;\" src=\"img/flatten-curve.png\" target=\"_blank\" width=200/>](https://github.com/E6985/pda-numpy-random-simulation/blob/main/img/flatten-curve.png)\n",
    "\n",
    "- the early stage of an epidemic if uncontrolled results in very rapid growth in the number of new infections ``cases`` - exponential growth - the Irish Epidemiological Modelling Advisory Group (IEMAG) - forecasted what an unmitigated epidemic might look like if uncontrolled predicting as many as 15,000 cases in Ireland by the end of March - this was the driving force behind flattening the curve campaign early in the emergency [1]\n",
    "\n",
    "<!--\n",
    "[1] P. Nolan (IEMAG), \"Live update on new coronavirus cases confirmed in Ireland (30/03/2020),\" [VirginMediaNews](https://web.archive.org/web/20201207122857if_/https://www.facebook.com/VirginMediaNews/videos/203845624391502), March 2020.\n",
    "-->"
   ]
  },
  {
   "cell_type": "markdown",
   "metadata": {},
   "source": [
    "***(Image) Department of Health, \"Lower & Delay the Epidemic Peak,\" [twitter](https://web.archive.org/web/20201127023317/https://twitter.com/CMOIreland/status/1239554134279360517/photo/1) March 2020.***"
   ]
  },
  {
   "cell_type": "markdown",
   "metadata": {},
   "source": [
    "### Zero Day\n",
    "***"
   ]
  },
  {
   "cell_type": "markdown",
   "metadata": {},
   "source": [
    "- $[{2020}-{02}-{28} / {02}-{29}]$ - day zero of the epidemic was the 28th February, 2020 - notified the following day - confirmed case was a male patient in the eastern part of the country [1]\n",
    "\n",
    "<!--\n",
    "[1] Department of Health, \"Statement from the National Public Health Emergency Team - Saturday 29 February,\" [gov](http://web.archive.org/web/20201207174242/https://www.gov.ie/en/press-release/2f75fd-statement-from-the-national-public-health-emergency-team-sat-29-feb), February 2020.\n",
    "-->"
   ]
  },
  {
   "cell_type": "markdown",
   "metadata": {},
   "source": [
    "### Testing Backlog\n",
    "***"
   ]
  },
  {
   "cell_type": "markdown",
   "metadata": {},
   "source": [
    "- $[{2020}-{04}-{10} / {04}-{19}]$ - in April reporting of cumulative total cases appeared to show an increase in the number of people contracting the disease - this was due to a backlog of cases including results coming from German laboratories being included in the figures - previous testing constraints such as the shortage of reagents and long turnaround times for test results had led to underreporting [1][2][3][4][5][6][7][8][9][10][11]\n",
    "\n",
    "<!--\n",
    "[1] F. Kelly, J. Power, \"Harris challenges HSE to speed up turnaround time for Covid-19 test results,\" [irishtimes](https://web.archive.org/web/20201211160620/https://www.irishtimes.com/news/health/coronavirus/harris-challenges-hse-to-speed-up-turnaround-time-for-covid-19-test-results-1.4228062), April 2020.\n",
    "\n",
    "[2] Department of Health, \"Statement from the National Public Health Emergency Team - Friday 10 April,\" [gov](https://web.archive.org/web/20201211152829/https://www.gov.ie/en/press-release/895657-statement-from-the-national-public-health-emergency-team-friday-10-a), April 2020.\n",
    "\n",
    "[3] Department of Health, \"Statement from the National Public Health Emergency Team - Saturday 11 April,\" [gov](https://web.archive.org/web/20201211152726/https://www.gov.ie/en/press-release/28cb70-statement-from-the-national-public-health-emergency-team-saturday-11), April 2020.\n",
    "\n",
    "[4] Department of Health, \"Statement from the National Public Health Emergency Team - Sunday 12 April,\" [gov](https://web.archive.org/web/20200815205120/https://www.gov.ie/en/press-release/ecbc11-statement-from-the-national-public-health-emergency-team-sunday-12-a), April 2020.\n",
    "\n",
    "[5] Department of Health, \"Statement from the National Public Health Emergency Team - Monday 13 April,\" [gov](https://web.archive.org/web/20201211152442/https://www.gov.ie/en/press-release/466968-statement-from-the-national-public-health-emergency-team-monday-13-a), April 2020.\n",
    "\n",
    "[6] Department of Health, \"Statement from the National Public Health Emergency Team - Tuesday 14 April,\" [gov](https://web.archive.org/web/20201211152331/https://www.gov.ie/en/press-release/17f5cb-statement-from-the-national-public-health-emergency-team-tuesday-14-), April 2020.\n",
    "\n",
    "[7] Department of Health, \"Statement from the National Public Health Emergency Team - Wednesday 15 April,\" [gov](https://web.archive.org/web/20201211152121/https://www.gov.ie/en/press-release/e2be7b-statement-from-the-national-public-health-emergency-team-wednesday-1), April 2020.\n",
    "\n",
    "[8] Department of Health, \"Statement from the National Public Health Emergency Team - Thursday 16 April,\" [gov](https://web.archive.org/web/20201211152034/https://www.gov.ie/en/press-release/0906df-statement-from-the-national-public-health-emergency-team-thursday-16), April 2020.\n",
    "\n",
    "[9] Department of Health, \"Statement from the National Public Health Emergency Team - Friday 17 April,\" [gov](https://web.archive.org/web/20201211151911/https://www.gov.ie/en/press-release/78ca7b-statement-from-the-national-public-health-emergency-team-friday-17-a), April 2020.\n",
    "\n",
    "[10] Department of Health, \"Statement from the National Public Health Emergency Team - Saturday 18 April,\" [gov](https://web.archive.org/web/20201211151747/https://www.gov.ie/en/press-release/03791b-statement-from-the-national-public-health-emergency-team-saturday-18), April 2020.\n",
    "\n",
    "[11] Department of Health, \"Statement from the National Public Health Emergency Team - Sunday 19 April,\" [gov](https://web.archive.org/web/20201211151409/https://www.gov.ie/en/press-release/2ebc1a-statement-from-the-national-public-health-emergency-team-sunday-19-a), April 2020.\n",
    "-->"
   ]
  },
  {
   "cell_type": "markdown",
   "metadata": {},
   "source": [
    "### Exponential Growth\n",
    "***"
   ]
  },
  {
   "cell_type": "markdown",
   "metadata": {},
   "source": [
    "###### Log-linear Model\n",
    "***"
   ]
  },
  {
   "cell_type": "markdown",
   "metadata": {},
   "source": [
    "- log-linear - ``numpy.random.Generator.logistic`` - plots tend to be used to show epidemic tends because they show exponential growth as a straight line - any subtle changes in the growth rate of an epidemic will be evident on these plots [1][2]\n",
    "\n",
    "<!--\n",
    "[1] P. Nolan (IEMAG), \"LIVE: Health officials confirm latest number of coronavirus cases and deaths (16/04/2020),\" [VirginMediaNews](https://web.archive.org/web/20201207123500if_/https://www.facebook.com/VirginMediaNews/videos/242266480512521), April 2020.\n",
    "\n",
    "[2] Department of Health, \"COVID-19 modelling data - Thursday 16 April 2020,\" [gov](https://web.archive.org/web/20201119120437/https://www.gov.ie/en/publication/ea86cc-covid-19-modelling-data-thursday-16-april-2020), April 2020.\n",
    "-->"
   ]
  },
  {
   "cell_type": "markdown",
   "metadata": {},
   "source": [
    "######  Parameter - ``cases``\n",
    "***"
   ]
  },
  {
   "cell_type": "markdown",
   "metadata": {},
   "source": [
    "[<img style=\"float:right;\" src=\"img/log-linear.png\" target=\"_blank\" width=200/>](https://github.com/E6985/pda-numpy-random-simulation/blob/main/img/log-linear.png)\n",
    "\n",
    "- $[{2020}-{02}-{29} / {03}-{24}]$ - ``cases`` parameter - cumulative number of cases - external tests results from the German laboratories backdated [1][2][3][4][5][6][7] - positive increase on the vertical - y-axis - from day zero (first case on the 28th February) to over ten on the 1st March to over one-hundred on the 14th March and over one-thousand on the 23rd March - very quick growth rate shown as a straight line - rapid growth evident [8][9] - in the early stages of the epidemic there was a day on day 33% growth rate of new cases - cumulative cases - each day 33% more cases than the preceding day [10][11]\n",
    "\n",
    "<!--\n",
    "[1] Department of Health, \"Statement from the National Public Health Emergency Team - Friday 10 April,\" [gov](https://web.archive.org/web/20201211152829/https://www.gov.ie/en/press-release/895657-statement-from-the-national-public-health-emergency-team-friday-10-a), April 2020.\n",
    "\n",
    "[2] Department of Health, \"Statement from the National Public Health Emergency Team - Saturday 11 April,\" [gov](https://web.archive.org/web/20201211152726/https://www.gov.ie/en/press-release/28cb70-statement-from-the-national-public-health-emergency-team-saturday-11), April 2020.\n",
    "\n",
    "[3] Department of Health, \"Statement from the National Public Health Emergency Team - Sunday 12 April,\" [gov](https://web.archive.org/web/20200815205120/https://www.gov.ie/en/press-release/ecbc11-statement-from-the-national-public-health-emergency-team-sunday-12-a), April 2020.\n",
    "\n",
    "[4] Department of Health, \"Statement from the National Public Health Emergency Team - Monday 13 April,\" [gov](https://web.archive.org/web/20201211152442/https://www.gov.ie/en/press-release/466968-statement-from-the-national-public-health-emergency-team-monday-13-a), April 2020.\n",
    "\n",
    "[5] Department of Health, \"Statement from the National Public Health Emergency Team - Tuesday 14 April,\" [gov](https://web.archive.org/web/20201211152331/https://www.gov.ie/en/press-release/17f5cb-statement-from-the-national-public-health-emergency-team-tuesday-14-), April 2020.\n",
    "\n",
    "[6] Department of Health, \"Statement from the National Public Health Emergency Team - Wednesday 15 April,\" [gov](https://web.archive.org/web/20201211152121/https://www.gov.ie/en/press-release/e2be7b-statement-from-the-national-public-health-emergency-team-wednesday-1), April 2020.\n",
    "\n",
    "[7] Department of Health, \"Statement from the National Public Health Emergency Team - Thursday 16 April,\" [gov](https://web.archive.org/web/20201211152034/https://www.gov.ie/en/press-release/0906df-statement-from-the-national-public-health-emergency-team-thursday-16), April 2020.\n",
    "\n",
    "[8] P. Nolan (IEMAG), \"LIVE: Health officials confirm latest number of coronavirus cases and deaths (16/04/2020),\" [VirginMediaNews](https://web.archive.org/web/20201207123500if_/https://www.facebook.com/VirginMediaNews/videos/242266480512521), April 2020.\n",
    "\n",
    "[9] Department of Health, \"COVID-19 modelling data - Thursday 16 April 2020,\" [gov](https://web.archive.org/web/20201119120437/https://www.gov.ie/en/publication/ea86cc-covid-19-modelling-data-thursday-16-april-2020), April 2020.\n",
    "\n",
    "[10] P. Nolan (IEMAG), \"Live update on new coronavirus cases confirmed in Ireland (30/03/2020),\" [VirginMediaNews](https://web.archive.org/web/20201207122857if_/https://www.facebook.com/VirginMediaNews/videos/203845624391502), March 2020.\n",
    "\n",
    "[11] Department of Health, \"COVID-19 modelling data - Thursday 16 April 2020,\" [gov](https://web.archive.org/web/20201119120437/https://www.gov.ie/en/publication/ea86cc-covid-19-modelling-data-thursday-16-april-2020), April 2020.\n",
    "-->"
   ]
  },
  {
   "cell_type": "markdown",
   "metadata": {},
   "source": [
    "***(Image) Department of Health, \"COVID-19 modelling data - Thursday 16 April 2020,\" [gov](https://web.archive.org/web/20201119120437/https://www.gov.ie/en/publication/ea86cc-covid-19-modelling-data-thursday-16-april-2020), April 2020.***"
   ]
  },
  {
   "cell_type": "markdown",
   "metadata": {},
   "source": [
    "[<img style=\"float:right;\" src=\"img/number-cases-hospital-icu.png\" target=\"_blank\" width=200/>](https://github.com/E6985/pda-numpy-random-simulation/blob/main/img/number-cases-hospital-icu.png)\n",
    "\n",
    "- $[{2020}-{02}-{29} / {03}-{12}]$ - ``cases`` parameter - five day average - run up to the 13th of March before the first set of moderate social distancing measures were introduced on the 12th March whereby schools and universities were closed and not long after pubs - detecting twenty to fourty new cases per day - confirmed cases each day plus any tests that were done in Germany subsequently backdated [1][2][3] - actual reporting of new cases (excluding the Germany backlog) was between four and six cases per day [4][5][6][7][8][9][10][11][12][13][14]\n",
    "\n",
    "<!--\n",
    "[1] P. Nolan (IEMAG), \"LIVE: Daily coronavirus update from the Department of Health (30/04/2020),\" [VirginMediaNews](https://web.archive.org/web/20201207140237if_/https://www.facebook.com/VirginMediaNews/videos/184315165952881), April 2020.\n",
    "\n",
    "[2] P. Leahy, P. Cullen, S. Lynch, F. Kelly, \"Coronavirus: Schools, colleges and childcare facilities in Ireland to shut,\" [irishtimes](https://www.irishtimes.com/news/health/coronavirus-schools-colleges-and-childcare-facilities-in-ireland-to-shut-1.4200977), March 2020.\n",
    "\n",
    "[3] Department of Health, \"COVID-19 modelling data - Thursday 30 April 2020,\" [gov](https://web.archive.org/web/20201101052836/https://www.gov.ie/en/publication/fed29a-covid-19-modelling-data-thursday-30-april-2020), April 2020.\n",
    "\n",
    "[4] Department of Health, \"Statement from the National Public Health Emergency Team - Saturday 29 February,\" [gov](http://web.archive.org/web/20201207174242/https://www.gov.ie/en/press-release/2f75fd-statement-from-the-national-public-health-emergency-team-sat-29-feb), February 2020.\n",
    "\n",
    "[5] Department of Health, \"Statement from the National Public Health Emergency Team - Tuesday 3 March 2020,\" [gov](http://web.archive.org/web/20201215094101/https://www.gov.ie/en/press-release/e78fda-statement-from-the-national-public-health-emergency-team-tuesday-3-m), March 2020.\n",
    "\n",
    "[6] Department of Health, \"Statement from the National Public Health Emergency Team - Wednesday 4 March 2020,\" [gov](http://web.archive.org/web/20201115152703/https://www.gov.ie/en/press-release/ab71f6-4-new-confirmed-cases-of-covid-19-coronavirus-in-ireland), March 2020.\n",
    "\n",
    "[7] Department of Health, \"Statement from the National Public Health Emergency Team - Thursday 5 March 2020,\" [gov](http://web.archive.org/web/20201115152646/https://www.gov.ie/en/press-release/d729e8-statement-from-the-national-public-health-emergency-team-thursday-5t), March 2020.\n",
    "\n",
    "[8] Department of Health, \"Statement from the National Public Health Emergency Team - Friday 6 March,\" [gov](http://web.archive.org/web/20201115152630/https://www.gov.ie/en/press-release/0dcb45-statement-from-the-national-public-health-emergency-team-friday-6th-), March 2020.\n",
    "\n",
    "[9] Department of Health, \"Statement from the National Public Health Emergency Team - Saturday 7 March,\" [gov](http://web.archive.org/web/20201115152614/https://www.gov.ie/en/press-release/3980ef-statement-from-the-national-public-health-emergency-team-saturday-7-), March 2020.\n",
    "\n",
    "[10] Department of Health, \"Statement from the National Public Health Emergency Team - Sunday 8 March,\" [gov](http://web.archive.org/web/20201115152603/https://www.gov.ie/en/press-release/10f0b5-statement-from-the-national-public-health-emergency-team-sunday-8-ma), March 2020.\n",
    "\n",
    "[11] Department of Health, \"Statement from the National Public Health Emergency Team - Monday 9 March,\" [gov](http://web.archive.org/web/20201219140929/https://www.gov.ie/en/press-release/d38830-statement-from-the-national-public-health-emergency-team), March 2020.\n",
    "\n",
    "[12] Department of Health, \"Statement from the National Public Health Emergency Team - Tuesday 10 March,\" [gov](http://web.archive.org/web/20201115152523/https://www.gov.ie/en/press-release/a4016f-statement-from-the-national-public-health-emergency-team-tuesday-10-/), March 2020.\n",
    "\n",
    "[13] Department of Health, \"Statement from the National Public Health Emergency Team - Wednesday 11 March,\" [gov](http://web.archive.org/web/20201115152507/https://www.gov.ie/en/press-release/451b35-statement-from-the-national-public-health-emergency-team-wednesday-1), March 2020.\n",
    "\n",
    "[14] Department of Health, \"Statement from the National Public Health Emergency Team - Thursday 12 March,\" [gov](http://web.archive.org/web/20201115152420/https://www.gov.ie/en/press-release/ef869a-statement-from-the-national-public-health-emergency-team), March 2020.\n",
    "-->"
   ]
  },
  {
   "cell_type": "markdown",
   "metadata": {},
   "source": [
    "- $[{2020}-{03}-{13} / {03}-{27}]$ - despite the moderate social distancing measures introduced - over the next two weeks in the run up to the end of March the number of new cases per day detected rose sharply at the point where in the week of the 28th of March there was approximately four-hundred-fifty new cases per day [1][2] - $[{2020}-{03}-{25} / {03}-{29}]$ - by the 30th March the average of the preceding five days had a day on day 15% growth rate of new cases which was a huge decrease in the rate of exponential growth [3][4]\n",
    "\n",
    "<!--\n",
    "[1] P. Nolan (IEMAG), \"LIVE: Daily coronavirus update from the Department of Health (30/04/2020),\" [VirginMediaNews](https://web.archive.org/web/20201207140237if_/https://www.facebook.com/VirginMediaNews/videos/184315165952881), April 2020.\n",
    "\n",
    "[2] Department of Health, \"COVID-19 modelling data - Thursday 30 April 2020,\" [gov](https://web.archive.org/web/20201101052836/https://www.gov.ie/en/publication/fed29a-covid-19-modelling-data-thursday-30-april-2020), April 2020.\n",
    "\n",
    "[3] P. Nolan (IEMAG), \"Live update on new coronavirus cases confirmed in Ireland (30/03/2020),\" [VirginMediaNews](https://web.archive.org/web/20201207122857if_/https://www.facebook.com/VirginMediaNews/videos/203845624391502), March 2020.\n",
    "\n",
    "[4] Department of Health, \"COVID-19 modelling data - Thursday 16 April 2020,\" [gov](https://web.archive.org/web/20201119120437/https://www.gov.ie/en/publication/ea86cc-covid-19-modelling-data-thursday-16-april-2020), April 2020.\n",
    "-->"
   ]
  },
  {
   "cell_type": "markdown",
   "metadata": {},
   "source": [
    "- $[{2020}-{03}-{28} / {04}-{30}]$ - the much stronger social distancing measures - stay at home order - introduced on the 28th of March [1] - resulted in the cases detected per day after clearly choked off transmission of the disease very promptly - so within a few days the number of confirmed cases plateaued and had remained stable in the range four-hundred to six-hundred new cases per day since [2][3]\n",
    "\n",
    "<!--\n",
    "[1] Department of Health, \"New measures to combat COVID-19 from midnight on 27 March 2020,\" [gov](http://web.archive.org/web/20201215124651/https://whatsnew.citizensinformation.ie/2020/03/27/new-measures-to-combat-covid-19-from-midnight-on-27-march-2020), March 2020.\n",
    "\n",
    "[2] P. Nolan (IEMAG), \"LIVE: Daily coronavirus update from the Department of Health (30/04/2020),\" [VirginMediaNews](https://web.archive.org/web/20201207140237if_/https://www.facebook.com/VirginMediaNews/videos/184315165952881), April 2020.\n",
    "\n",
    "[3] Department of Health, \"COVID-19 modelling data - Thursday 30 April 2020,\" [gov](https://web.archive.org/web/20201101052836/https://www.gov.ie/en/publication/fed29a-covid-19-modelling-data-thursday-30-april-2020), April 2020.\n",
    "-->"
   ]
  },
  {
   "cell_type": "markdown",
   "metadata": {},
   "source": [
    "***(Image) Department of Health, \"COVID-19 modelling data - Thursday 30 April 2020,\" [gov](https://web.archive.org/web/20201101052836/https://www.gov.ie/en/publication/fed29a-covid-19-modelling-data-thursday-30-april-2020), April 2020.***"
   ]
  },
  {
   "cell_type": "markdown",
   "metadata": {},
   "source": [
    "###### Parameter - ``hospital``\n",
    "***"
   ]
  },
  {
   "cell_type": "markdown",
   "metadata": {},
   "source": [
    "[<img style=\"float:right;\" src=\"img/log-linear.png\" target=\"_blank\" width=200/>](https://github.com/E6985/pda-numpy-random-simulation/blob/main/img/log-linear.png) \n",
    "\n",
    "- $[{2020}-{03}-{29} / {04}-{16}]$ - ``hospital`` parameter - hospitalizations was growing slowly [1][2]\n",
    "\n",
    "<!--\n",
    "[1] P. Nolan (IEMAG), \"LIVE: Health officials confirm latest number of coronavirus cases and deaths (16/04/2020),\" [VirginMediaNews](https://web.archive.org/web/20201207123500if_/https://www.facebook.com/VirginMediaNews/videos/242266480512521), April 2020.\n",
    "\n",
    "[2] Department of Health, \"COVID-19 modelling data - Thursday 16 April 2020,\" [gov](https://web.archive.org/web/20201119120437/https://www.gov.ie/en/publication/ea86cc-covid-19-modelling-data-thursday-16-april-2020), April 2020.\n",
    "-->"
   ]
  },
  {
   "cell_type": "markdown",
   "metadata": {},
   "source": [
    "***(Image) Department of Health, \"COVID-19 modelling data - Thursday 16 April 2020,\" [gov](https://web.archive.org/web/20201119120437/https://www.gov.ie/en/publication/ea86cc-covid-19-modelling-data-thursday-16-april-2020), April 2020.***"
   ]
  },
  {
   "cell_type": "markdown",
   "metadata": {},
   "source": [
    "[<img style=\"float:right;\" src=\"img/number-cases-hospital-icu.png\" target=\"_blank\" width=200/>](https://github.com/E6985/pda-numpy-random-simulation/blob/main/img/number-cases-hospital-icu.png)\n",
    "\n",
    "- $[{2020}-{02}-{29} / {03}-{28}]$ - ``hospital`` parameter - five day average - approximately 40 people in hospital on the 11th March and despite the moderate social distancing measures introduced on the 12th March whereby schools and universities were closed and not long after pubs - towards the end of March the number of people in hospital rose very sharply to around the same as the ``cases`` parameter five day average at four-hundred-fifty [1][2][3]\n",
    "\n",
    "<!--\n",
    "[1] P. Nolan (IEMAG), \"LIVE: Daily coronavirus update from the Department of Health (30/04/2020),\" [VirginMediaNews](https://web.archive.org/web/20201207140237if_/https://www.facebook.com/VirginMediaNews/videos/184315165952881), April 2020.\n",
    "\n",
    "[2] P. Leahy, P. Cullen, S. Lynch, F. Kelly, \"Coronavirus: Schools, colleges and childcare facilities in Ireland to shut,\" [irishtimes](https://www.irishtimes.com/news/health/coronavirus-schools-colleges-and-childcare-facilities-in-ireland-to-shut-1.4200977), March 2020.\n",
    "\n",
    "[3] Department of Health, \"COVID-19 modelling data - Thursday 30 April 2020,\" [gov](https://web.archive.org/web/20201101052836/https://www.gov.ie/en/publication/fed29a-covid-19-modelling-data-thursday-30-april-2020), April 2020.\n",
    "-->"
   ]
  },
  {
   "cell_type": "markdown",
   "metadata": {},
   "source": [
    "***(Image) Department of Health, \"COVID-19 modelling data - Thursday 30 April 2020,\" [gov](https://web.archive.org/web/20201101052836/https://www.gov.ie/en/publication/fed29a-covid-19-modelling-data-thursday-30-april-2020), April 2020.***"
   ]
  },
  {
   "cell_type": "markdown",
   "metadata": {},
   "source": [
    "[<img style=\"float:right;\" src=\"img/04232020-cases-hospital-icu.png\" target=\"_blank\" width=200/>](https://github.com/E6985/pda-numpy-random-simulation/blob/main/img/04232020-cases-hospital-icu.png) \n",
    "\n",
    "- $[{2020}-{04}-{13} / {04}-{22}]$ - ``hospital`` parameter - five day moving average - peaked close to 900 - peaking 90 admissions per day - declining over the last 10 days - people been discharged from hospital at a faster rate than being admitted [1][2]\n",
    "\n",
    "<!--\n",
    "[1] P. Nolan (IEMAG), \"LIVE: Daily briefing on coronavirus in Ireland (23/04/2020),\" [VirginMediaNews](https://web.archive.org/web/20201207120754if_/https://www.facebook.com/VirginMediaNews/videos/877654396048507), April 2020.\n",
    "\n",
    "[2] Department of Health, \"COVID-19 modelling data - Thursday 23 April 2020,\" [gov](https://web.archive.org/web/20201020115335/https://www.gov.ie/en/publication/a950be-covid-19-modelling-data-thursday-23-april-2020), April 2020.\n",
    "-->"
   ]
  },
  {
   "cell_type": "markdown",
   "metadata": {},
   "source": [
    "***(Image) Department of Health, \"COVID-19 modelling data - Thursday 23 April 2020,\" [gov](https://web.archive.org/web/20201020115335/https://www.gov.ie/en/publication/a950be-covid-19-modelling-data-thursday-23-april-2020), April 2020.***"
   ]
  },
  {
   "cell_type": "markdown",
   "metadata": {},
   "source": [
    "[<img style=\"float:right;\" src=\"img/cases-confirmHosp-newAddmissions-earlyMarch-04302020.png\" target=\"_blank\" width=200/>](https://github.com/E6985/pda-numpy-random-simulation/blob/main/img/cases-confirmHosp-newAddmissions-earlyMarch-04302020.png)\n",
    "\n",
    "- $[{2020}-{03}-{28} / {04}-{30}]$ - despite the much stronger social distancing measures - stay at home order - introduced on the 28th of March [1] - unlike the number of cases detected per day choked off transmission of the disease - the same was not true for hospitalisations - number of people in hospital had continued to rise quite sharply - peak at almost nine-hundred people in mid April and still very high at approximately seven-hundred-thirty - the number of admissions per day peaking close to 100 admissions per day at the peak of the outbreak - now down to below 40 [1][2][3]\n",
    "\n",
    "<!--\n",
    "[1] Department of Health, \"New measures to combat COVID-19 from midnight on 27 March 2020,\" [gov](https://web.archive.org/web/20201215124651/https://whatsnew.citizensinformation.ie/2020/03/27/new-measures-to-combat-covid-19-from-midnight-on-27-march-2020), March 2020.\n",
    "\n",
    "[2] P. Nolan (IEMAG), \"LIVE: Daily coronavirus update from the Department of Health (30/04/2020),\" [VirginMediaNews](https://web.archive.org/web/20201207140237if_/https://www.facebook.com/VirginMediaNews/videos/184315165952881), April 2020.\n",
    "\n",
    "[3] Department of Health, \"COVID-19 modelling data - Thursday 30 April 2020,\" [gov](https://web.archive.org/web/20201101052836/https://www.gov.ie/en/publication/fed29a-covid-19-modelling-data-thursday-30-april-2020), April 2020.\n",
    "-->"
   ]
  },
  {
   "cell_type": "markdown",
   "metadata": {},
   "source": [
    "***(Image) Department of Health, \"COVID-19 modelling data - Thursday 30 April 2020,\" [gov](https://web.archive.org/web/20201101052836/https://www.gov.ie/en/publication/fed29a-covid-19-modelling-data-thursday-30-april-2020), April 2020.***"
   ]
  },
  {
   "cell_type": "markdown",
   "metadata": {},
   "source": [
    "###### Parameter - ``icu``\n",
    "***"
   ]
  },
  {
   "cell_type": "markdown",
   "metadata": {},
   "source": [
    "[<img style=\"float:right;\" src=\"img/number-cases-hospital-icu.png\" target=\"_blank\" width=200/>](https://github.com/E6985/pda-numpy-random-simulation/blob/main/img/number-cases-hospital-icu.png)\n",
    "\n",
    "- $[{2020}-{03}-{20} / {03}-{27}]$ - the period just after St. Patrick's Day there was a very sharp increase in the number of people in intensive care - week beginning 20th March the number of people in icu was doubling very 3.5 days [1] - in the five days period up to and including the 27th March when the decision was made to implement very strong social distancing measures given the disease was clearly spreading very rapid - the country had from one-hundred-fifty to six-hundred new cases a day - from one-hundred-seventy to four-hundred people in hospital - from fifty to eighty people in intensive care [3][4]\n",
    "\n",
    "<!--\n",
    "[1] P. Nolan (IEMAG), \"Twitter Post (No Title),\" [twitter](https://web.archive.org/web/20201217084554/https://twitter.com/President_MU/status/1257729864993562624/photo/1), May 2020.\n",
    "\n",
    "[2] Department of Health, \"New measures to combat COVID-19 from midnight on 27 March 2020,\" [gov](https://web.archive.org/web/20201215124651/https://whatsnew.citizensinformation.ie/2020/03/27/new-measures-to-combat-covid-19-from-midnight-on-27-march-2020), March 2020.\n",
    "\n",
    "[3] P. Nolan (IEMAG), \"LIVE: Daily coronavirus update from the Department of Health (30/04/2020),\" [VirginMediaNews](https://web.archive.org/web/20201207140237if_/https://www.facebook.com/VirginMediaNews/videos/184315165952881), April 2020.\n",
    "\n",
    "[4] Department of Health, \"COVID-19 modelling data - Thursday 30 April 2020,\" [gov](https://web.archive.org/web/20201101052836/https://www.gov.ie/en/publication/fed29a-covid-19-modelling-data-thursday-30-april-2020), April 2020.\n",
    "-->"
   ]
  },
  {
   "cell_type": "markdown",
   "metadata": {},
   "source": [
    "- $[{2020}-{03}-{26} / {04}-{04}]$ - after the 28th March the number of people in intensive care continued to rise - the 10 day period - had fifty to one-hundred-forty people in intensive care - $[{2020}-{04}-{09} / {04}-{11}]$ - peaking close to one-hundred-sixty within a week [1][2]\n",
    "\n",
    "<!--\n",
    "[1] P. Nolan (IEMAG), \"LIVE: Daily coronavirus update from the Department of Health (30/04/2020),\" [VirginMediaNews](https://web.archive.org/web/20201207140237if_/https://www.facebook.com/VirginMediaNews/videos/184315165952881), April 2020.\n",
    "\n",
    "[2] Department of Health, \"COVID-19 modelling data - Thursday 30 April 2020,\" [gov](https://web.archive.org/web/20201101052836/https://www.gov.ie/en/publication/fed29a-covid-19-modelling-data-thursday-30-april-2020), April 2020.\n",
    "-->"
   ]
  },
  {
   "cell_type": "markdown",
   "metadata": {},
   "source": [
    "***(Image) Department of Health, \"COVID-19 modelling data - Thursday 30 April 2020,\" [gov](https://web.archive.org/web/20201101052836/https://www.gov.ie/en/publication/fed29a-covid-19-modelling-data-thursday-30-april-2020), April 2020.***"
   ]
  },
  {
   "cell_type": "markdown",
   "metadata": {},
   "source": [
    "### Stable Growth\n",
    "***"
   ]
  },
  {
   "cell_type": "markdown",
   "metadata": {},
   "source": [
    "###### Parameter - ``cases``\n",
    "***"
   ]
  },
  {
   "cell_type": "markdown",
   "metadata": {},
   "source": [
    "[<img style=\"float:right;\" src=\"img/log-linear.png\" target=\"_blank\" width=200/>](https://github.com/E6985/pda-numpy-random-simulation/blob/main/img/log-linear.png) \n",
    "\n",
    "- $[{2020}-{03}-{30} / {04}-{16}]$ - ``cases`` parameter - cumulative number of cases - the slope of line rises very sharply in the early days of the epidemic - as mentioned there was a day on day 33% growth rate of new cases - cumulative cases - each day 33% more cases than the preceding day - while the curve was not flatened there was a marked change in the growth rate in the number of cumulative cases at the beginning of April [1][2][3]\n",
    "\n",
    "<!--\n",
    "[1] P. Nolan (IEMAG), \"Live update on new coronavirus cases confirmed in Ireland (30/03/2020),\" [VirginMediaNews](https://web.archive.org/web/20201207122857if_/https://www.facebook.com/VirginMediaNews/videos/203845624391502), March 2020.\n",
    "\n",
    "[2] P. Nolan, \"LIVE: Health officials confirm latest number of coronavirus cases and deaths (16/04/2020),\" [VirginMediaNews](https://web.archive.org/web/20201207123500if_/https://www.facebook.com/VirginMediaNews/videos/242266480512521), April 2020.\n",
    "\n",
    "[3] Department of Health, \"COVID-19 modelling data - Thursday 16 April 2020,\" [gov](https://web.archive.org/web/20201119120437/https://www.gov.ie/en/publication/ea86cc-covid-19-modelling-data-thursday-16-april-2020), April 2020.\n",
    "-->"
   ]
  },
  {
   "cell_type": "markdown",
   "metadata": {},
   "source": [
    "***(Image) Department of Health, \"COVID-19 modelling data - Thursday 16 April 2020,\" [gov](https://web.archive.org/web/20201119120437/https://www.gov.ie/en/publication/ea86cc-covid-19-modelling-data-thursday-16-april-2020), April 2020.***"
   ]
  },
  {
   "cell_type": "markdown",
   "metadata": {},
   "source": [
    "[<img style=\"float:right;\" src=\"img/cases-growth-rate-new-not-cumulative-5-day-avg-03182020-04162020.png\" target=\"_blank\" width=200/>](https://github.com/E6985/pda-numpy-random-simulation/blob/main/img/cases-growth-rate-new-not-cumulative-5-day-avg-03182020-04162020.png) \n",
    "\n",
    "- $[{2020}-{04}-{03} / {04}-{16}]$ - ``cases`` parameter - percentage of the number of new cases per day (5-day average) compared with the preceding day with the tests results from the German laboratories backdated was close to zero meaning there was very little growth in the epidemic during this period "
   ]
  },
  {
   "cell_type": "markdown",
   "metadata": {},
   "source": [
    "***(Image) Department of Health, \"COVID-19 modelling data - Thursday 16 April 2020,\" [gov](https://web.archive.org/web/20201119120437/https://www.gov.ie/en/publication/ea86cc-covid-19-modelling-data-thursday-16-april-2020), April 2020.***"
   ]
  },
  {
   "cell_type": "markdown",
   "metadata": {},
   "source": [
    "[<img style=\"float:right;\" src=\"img/cases-growth-rate-cumulative-5-day-avg-04072020-04162020.png\" target=\"_blank\" width=200/>](https://github.com/E6985/pda-numpy-random-simulation/blob/main/img/cases-growth-rate-cumulative-5-day-avg-04072020-04162020.png)\n",
    "\n",
    "- $[{2020}-{04}-{07} / {04}-{16}]$ - ``cases`` parameter - growth rate - cumulative number of cases for each day - percentage growth in the total number of cases compared to the preceding day and averaged over five days - was stable at approximately 5% [1][2]\n",
    "\n",
    "<!--\n",
    "[1] P. Nolan (IEMAG), \"LIVE: Health officials confirm latest number of coronavirus cases and deaths (16/04/2020),\" [VirginMediaNews](https://web.archive.org/web/20201207123500if_/https://www.facebook.com/VirginMediaNews/videos/242266480512521), April 2020.\n",
    "\n",
    "[2] Department of Health, \"COVID-19 modelling data - Thursday 16 April 2020,\" [gov](https://web.archive.org/web/20201119120437/https://www.gov.ie/en/publication/ea86cc-covid-19-modelling-data-thursday-16-april-2020), April 2020.\n",
    "-->"
   ]
  },
  {
   "cell_type": "markdown",
   "metadata": {},
   "source": [
    "***(Image) Department of Health, \"COVID-19 modelling data - Thursday 16 April 2020,\" [gov](https://web.archive.org/web/20201119120437/https://www.gov.ie/en/publication/ea86cc-covid-19-modelling-data-thursday-16-april-2020), April 2020.***"
   ]
  },
  {
   "cell_type": "markdown",
   "metadata": {},
   "source": [
    "[<img style=\"float:right;\" src=\"img/04232020-cases-hospital-icu.png\" target=\"_blank\" width=200/>](https://github.com/E6985/pda-numpy-random-simulation/blob/main/img/04232020-cases-hospital-icu.png) \n",
    "\n",
    "- $[{2020}-{04}-{18} / {04}-{22}]$ ``cases`` parameter - five day moving average - average of observed day plus the preceding four days - external tests results from the German laboratories backdated to the date if had been processed in a timely manner in Ireland - many of the tests actually belonged to cases in the later part of March or the very early part of April [1][2][3][4][5] - plot downturn - can see a reduction in the number of cases being detected per day although it was expected to subsequently increase because of the emphasis in testing long term residential care facilties [6][7]\n",
    "\n",
    "<!--\n",
    "[1] P. Nolan (IEMAG), \"LIVE: Daily briefing on coronavirus in Ireland (23/04/2020),\" [VirginMediaNews](https://web.archive.org/web/20201207120754if_/https://www.facebook.com/VirginMediaNews/videos/877654396048507), April 2020.\n",
    "\n",
    "[2] Department of Health, \"Statement from the National Public Health Emergency Team - Friday 17 April,\" [gov](https://web.archive.org/web/20201211151911/https://www.gov.ie/en/press-release/78ca7b-statement-from-the-national-public-health-emergency-team-friday-17-a), April 2020.\n",
    "\n",
    "[3] Department of Health, \"Statement from the National Public Health Emergency Team - Saturday 18 April,\" [gov](https://web.archive.org/web/20201211151747/https://www.gov.ie/en/press-release/03791b-statement-from-the-national-public-health-emergency-team-saturday-18), April 2020.\n",
    "\n",
    "[4] Department of Health, \"Statement from the National Public Health Emergency Team - Sunday 19 April,\" [gov](https://web.archive.org/web/20201211151409/https://www.gov.ie/en/press-release/2ebc1a-statement-from-the-national-public-health-emergency-team-sunday-19-a), April 2020.\n",
    "\n",
    "[5] Department of Health, \"COVID-19 modelling data - Thursday 23 April 2020,\" [gov](https://web.archive.org/web/20201020115335/https://www.gov.ie/en/publication/a950be-covid-19-modelling-data-thursday-23-april-2020), April 2020.\n",
    "\n",
    "[6] A. Conneely, [rte](https://web.archive.org/web/20201214152703/https://www.rte.ie/news/2020/0423/1134474-nursing-homes-staffing), \"Nursing homes fear staff shortages after recent testing blitz,\" April 2020.\n",
    "\n",
    "[7] Department of Health, \"COVID-19 modelling data - Thursday 23 April 2020,\" [gov](https://web.archive.org/web/20201020115335/https://www.gov.ie/en/publication/a950be-covid-19-modelling-data-thursday-23-april-2020), April 2020.\n",
    "-->"
   ]
  },
  {
   "cell_type": "markdown",
   "metadata": {},
   "source": [
    "***(Image) Department of Health, \"COVID-19 modelling data - Thursday 23 April 2020,\" [gov](https://web.archive.org/web/20201020115335/https://www.gov.ie/en/publication/a950be-covid-19-modelling-data-thursday-23-april-2020), April 2020.***"
   ]
  },
  {
   "cell_type": "markdown",
   "metadata": {},
   "source": [
    "[<img style=\"float:right;\" src=\"img/04232020-cumulative-cases.png\" target=\"_blank\" width=200/>](https://github.com/E6985/pda-numpy-random-simulation/blob/main/img/04232020-cumulative-cases.png) \n",
    "\n",
    "- $[{2020}-{04}-{17} / {04}-{23}]$ - since early April the growth rate of new cases had been effectively zero - growth rate coming up towards zero given there was a large number of cases announced in the days prior [1][2][3][4]\n",
    "\n",
    "<!--\n",
    "[1] P. Nolan (IEMAG), \"LIVE: Daily briefing on coronavirus in Ireland (23/04/2020),\" [VirginMediaNews](https://web.archive.org/web/20201207120754if_/https://www.facebook.com/VirginMediaNews/videos/877654396048507), April 2020.\n",
    "\n",
    "[2] Department of Health, \"Statement from the National Public Health Emergency Team - Wednesday 22 April,\" [gov](https://web.archive.org/web/20201214163201/https://www.gov.ie/en/press-release/d7aa52-statement-from-the-national-public-health-emergency-team-wednesday-2), April 2020.\n",
    "\n",
    "[3] Department of Health, \"Statement from the National Public Health Emergency Team - Thursday 23 April,\" [gov](https://web.archive.org/web/20201214163155/https://www.gov.ie/en/press-release/f4ad12-statement-from-the-national-public-health-emergency-team-thursday-23), April 2020.\n",
    "\n",
    "[4] Department of Health, \"COVID-19 modelling data - Thursday 23 April 2020,\" [gov](https://web.archive.org/web/20201020115335/https://www.gov.ie/en/publication/a950be-covid-19-modelling-data-thursday-23-april-2020), April 2020.\n",
    "-->"
   ]
  },
  {
   "cell_type": "markdown",
   "metadata": {},
   "source": [
    "***(Image) Department of Health, \"COVID-19 modelling data - Thursday 16 April 2020,\" [gov](https://web.archive.org/web/20201119120437/https://www.gov.ie/en/publication/ea86cc-covid-19-modelling-data-thursday-16-april-2020), April 2020.***"
   ]
  },
  {
   "cell_type": "markdown",
   "metadata": {},
   "source": [
    "[<img style=\"float:right;\" src=\"img/cases-growth-rate-new-not-cumulative-5-day-avg-03182020-04302020.png\" target=\"_blank\" width=200/>](https://github.com/E6985/pda-numpy-random-simulation/blob/main/img/cases-growth-rate-new-not-cumulative-5-day-avg-03182020-04302020.png)\n",
    "\n",
    "- $[{2020}-{04}-{24} / {04}-{30}]$ - the overall growth rate of the disease in the population had been close to zero since the beginning of April - given the very strong social distancing measures taken at the end of March beginning of April shows it was very effective albeit three components to that - i) general population - ii) health care workers - iii) long term residential care [1][2]\n",
    "\n",
    "<!--\n",
    "[1] P. Nolan (IEMAG), \"LIVE: Daily coronavirus update from the Department of Health (30/04/2020),\" [VirginMediaNews](https://web.archive.org/web/20201207140237if_/https://www.facebook.com/VirginMediaNews/videos/184315165952881), April 2020.\n",
    "\n",
    "[2] Department of Health, \"COVID-19 modelling data - Thursday 30 April 2020,\" [gov](https://web.archive.org/web/20201101052836/https://www.gov.ie/en/publication/fed29a-covid-19-modelling-data-thursday-30-april-2020), April 2020.\n",
    "-->"
   ]
  },
  {
   "cell_type": "markdown",
   "metadata": {},
   "source": [
    "***(Image) Department of Health, \"COVID-19 modelling data - Thursday 30 April 2020,\" [gov](https://web.archive.org/web/20201101052836/https://www.gov.ie/en/publication/fed29a-covid-19-modelling-data-thursday-30-april-2020), April 2020.***"
   ]
  },
  {
   "cell_type": "markdown",
   "metadata": {},
   "source": [
    "[<img style=\"float:right;\" src=\"img/cases-growth-05072020.png\" target=\"_blank\" width=200/>](https://github.com/E6985/pda-numpy-random-simulation/blob/main/img/cases-growth-05072020.png)\n",
    "\n",
    "- $[{2020}-{05}-{01} / {05}-{07}]$ - for most of April the growth rate was very close to zero - on average observing a similar number of cases each day to the preceding day - looking back over the last week - now in a period where the number of new cases per day is declining - the number of new cases notified on the 7th May was the lowest number notified in a very long time - now in a period where new cases per day on average was declining close to 10% per day - all indications are that the suppression measures introduced midnight the 27th March had been very effective in suppressing the spread of the virus within the population - as cases recover beginning to see the number of new cases per day decline [1][2]\n",
    "\n",
    "<!--\n",
    "[[...] P. Nolan (IEMAG), \"LIVE at the daily coronavirus briefing as health officials give an update (07/05/2020),\" [VirginMediaNews](https://web.archive.org/web/20201207124157if_/https://www.facebook.com/VirginMediaNews/videos/646196552888811), May 2020.\n",
    "\n",
    "[[...] Department of Health, [Statement from the National Public Health Emergency Team - Thursday 7 May](https://web.archive.org/web/20201115150414/https://www.gov.ie/en/press-release/fe4551-statement-from-the-national-public-emergency-team-7-may), May 2020.\n",
    "-->"
   ]
  },
  {
   "cell_type": "markdown",
   "metadata": {},
   "source": [
    "***(Screenshot) P. Nolan (IEMAG), \"LIVE at the daily coronavirus briefing as health officials give an update (07/05/2020),\" [VirginMediaNews](https://web.archive.org/web/20201207124157if_/https://www.facebook.com/VirginMediaNews/videos/646196552888811), May 2020.***"
   ]
  },
  {
   "cell_type": "markdown",
   "metadata": {},
   "source": [
    "[<img style=\"float:right;\" src=\"img/key-metrics-05142020.png\" target=\"_blank\" width=200/>](https://github.com/E6985/pda-numpy-random-simulation/blob/main/img/key-metrics-05142020.png)\n",
    "\n",
    "- $[{2020}-{05}-{01} / {05}-{13}]$ - mid-April there was on average close to six-hundred true** new cases per days - looking back on the two preceding Wednesdays and comparing with mid-April the average over the preceding five days indicated the ``cases`` parameter metric was declining [1]\n",
    "\n",
    "\n",
    "- $[{2020}-{04}-{11} / {04}-{16})$ - ``559``\n",
    "\n",
    "\n",
    "- $[{2020}-{05}-{01} / {05}-{06})$ - ``283``\n",
    "\n",
    "\n",
    "- $[{2020}-{05}-{08} / {05}-{13})$ - ``172``\n",
    "\n",
    "\n",
    "** $[{2020}-{05}-{14} / {05}-{15})$ - over half the cases notified - ``223`` - included historical cases notified to the Department of Health for the first time [2][3] \n",
    "\n",
    "<!--\n",
    "[1] P. Nolan (IEMAG), \"LIVE: Latest coronavirus cases and deaths announced (14/05/2020),\" [VirginMediaNews](https://web.archive.org/web/20201207124525if_/https://www.facebook.com/VirginMediaNews/videos/663783837807950), May 2020.\n",
    "\n",
    "[2] RTE, \"Investigation over bulk reporting of virus cases at Mater Hospital,\" [RTE](https://web.archive.org/web/20201221071817/https://www.rte.ie/news/coronavirus/2020/0515/1138612-covid19-coronavirus-tests), May 2020.\n",
    "\n",
    "[3] Department of Health, \"Statement from the National Public Health Emergency Team - Thursday 14 May,\" [gov](https://web.archive.org/web/20201221053711/https://www.gov.ie/en/press-release/d65820-statement-from-the-national-public-health-emergency-team-thursday-14), May 2020.\n",
    "-->"
   ]
  },
  {
   "cell_type": "markdown",
   "metadata": {},
   "source": [
    "***(Screenshot) P. Nolan (IEMAG), \"LIVE: Latest coronavirus cases and deaths announced (14/05/2020),\" [VirginMediaNews](https://web.archive.org/web/20201207124525if_/https://www.facebook.com/VirginMediaNews/videos/663783837807950), May 2020.***"
   ]
  },
  {
   "cell_type": "markdown",
   "metadata": {},
   "source": [
    "[<img style=\"float:right;\" src=\"img/hospital-new-cases-icu-05212020.png\" target=\"_blank\" width=200/>](https://github.com/E6985/pda-numpy-random-simulation/blob/main/img/hospital-new-cases-icu-05212020.png)\n",
    "\n",
    "- $[{2020}-{04}-{24} / {05}-{21}]$ - number of new cases per day by the date in which the test swab was taken as a five day average and looking back each day had declined steadily week on week [1][2]\n",
    "\n",
    "\n",
    "- $[{2020}-{05}-{16} / {05}-{21})$ - the average of the five days leading up to Wednesday the 20th May - average 72 new cases per day indicated a very significant decrease in the number of new cases reported per day [1][2] \n",
    "\n",
    "<!--\n",
    "[1] P. Nolan (IEMAG), \"LIVE: Update on coronavirus in Ireland (21/05/2020),\" [VirginMediaNews](https://web.archive.org/web/20201207135558/https://www.facebook.com/VirginMediaNews/videos/286447475729598), May 2020.\n",
    "\n",
    "[2] P. Nolan (IEMAG), \"Twitter Post (No Title) - 21st May,\" [twitter](https://web.archive.org/web/20201221121700/https://twitter.com/President_MU/status/1263547672369278983/photo/1), May 2020.\n",
    "-->"
   ]
  },
  {
   "cell_type": "markdown",
   "metadata": {},
   "source": [
    "***(Image) P. Nolan (IEMAG), \"Twitter Post (No Title) - 21st May,\" [twitter](https://web.archive.org/web/20201221121700/https://twitter.com/President_MU/status/1263547672369278983/photo/1), May 2020.***"
   ]
  },
  {
   "cell_type": "markdown",
   "metadata": {},
   "source": [
    "###### Parameter - ``hospital``\n",
    "***"
   ]
  },
  {
   "cell_type": "markdown",
   "metadata": {},
   "source": [
    "[<img style=\"float:right;\" src=\"img/cases-confirmHosp-newAddmissions-earlyMarch-04302020.png\" target=\"_blank\" width=200/>](https://github.com/E6985/pda-numpy-random-simulation/blob/main/img/cases-confirmHosp-newAddmissions-earlyMarch-04302020.png)\n",
    "\n",
    "- $[{2020}-{04}-{30} / {05}-{07}]$ - significant reduction in the number of people in hospital and in terms of hospital admissions - previous week had over 700 people in hospital - typically an average of 40 admissions per day or more - morning of the 7th May there were 614 people on HSE acute sites and somewhat fewer in the afternoon - over the last week typically looking at 20 or fewer new admissions per day [1][2]\n",
    "\n",
    "<!--\n",
    "[1] P. Nolan (IEMAG), \"LIVE at the daily coronavirus briefing as health officials give an update (07/05/2020),\" [VirginMediaNews](https://web.archive.org/web/20201207124157if_/https://www.facebook.com/VirginMediaNews/videos/646196552888811), May 2020.\n",
    "\n",
    "[2] Department of Health, \"COVID-19 modelling data - Thursday 30 April 2020,\" [gov](https://web.archive.org/web/20201101052836/https://www.gov.ie/en/publication/fed29a-covid-19-modelling-data-thursday-30-april-2020), April 2020.\n",
    "-->"
   ]
  },
  {
   "cell_type": "markdown",
   "metadata": {},
   "source": [
    "***(Image) Department of Health, \"COVID-19 modelling data - Thursday 30 April 2020,\" [gov](https://web.archive.org/web/20201101052836/https://www.gov.ie/en/publication/fed29a-covid-19-modelling-data-thursday-30-april-2020), April 2020.***"
   ]
  },
  {
   "cell_type": "markdown",
   "metadata": {},
   "source": [
    "[<img style=\"float:right;\" src=\"img/key-metrics-05142020.png\" target=\"_blank\" width=200/>](https://github.com/E6985/pda-numpy-random-simulation/blob/main/img/key-metrics-05142020.png)\n",
    "\n",
    "- $[{2020}-{05}-{01} / {05}-{13}]$ - hospital admissions per day was very high in mid-april - between 50 and 60 people admitted each day - looking back on the two preceding Wednesdays and comparing with mid-April the average over the preceding five days indicated the ``hospital`` parameter metric was declining [1][2]\n",
    "\n",
    "\n",
    "- $[{2020}-{04}-{11} / {04}-{16})$ - ``54`` - cumulative ``865``\n",
    "\n",
    "\n",
    "- $[{2020}-{05}-{01} / {05}-{06})$ - ``22`` - cumulative ``680``\n",
    "\n",
    "\n",
    "- $[{2020}-{05}-{08} / {05}-{13})$ - ``17`` - cumulative ``526``\n",
    "\n",
    "\n",
    "- $[{2020}-{05}-{14} / {05}-{15})$ - cumulative in-patients - ``459``\n",
    "\n",
    "<!--\n",
    "[1] P. Nolan (IEMAG), \"LIVE: Latest coronavirus cases and deaths announced (14/05/2020),\" [VirginMediaNews](https://web.archive.org/web/20201207124525if_/https://www.facebook.com/VirginMediaNews/videos/663783837807950), May 2020.\n",
    "\n",
    "[2] Department of Health, \"Statement from the National Public Health Emergency Team - Thursday 14 May,\" [gov](https://web.archive.org/web/20201221053711/https://www.gov.ie/en/press-release/d65820-statement-from-the-national-public-health-emergency-team-thursday-14), May 2020.\n",
    "-->"
   ]
  },
  {
   "cell_type": "markdown",
   "metadata": {},
   "source": [
    "***(Screenshot) P. Nolan (IEMAG), \"LIVE: Latest coronavirus cases and deaths announced (14/05/2020),\" [VirginMediaNews](https://web.archive.org/web/20201207124525if_/https://www.facebook.com/VirginMediaNews/videos/663783837807950), May 2020.***"
   ]
  },
  {
   "cell_type": "markdown",
   "metadata": {},
   "source": [
    "[<img style=\"float:right;\" src=\"img/hospital-new-cases-icu-05212020.png\" target=\"_blank\" width=200/>](https://github.com/E6985/pda-numpy-random-simulation/blob/main/img/hospital-new-cases-icu-05212020.png)\n",
    "\n",
    "- $[{2020}-{04}-{24} / {05}-{21}]$ - number of people in hospital per day taken as a five day average and looking back each day had declined steadily week on week [1][2]\n",
    "\n",
    "\n",
    "- $[{2020}-{05}-{16} / {05}-{21})$ - the average of the five days leading up to Wednesday the 20th May had on average 18 new addmissions per day with cumulative 380 people in hospital - indications are stable [1][2] \n",
    "\n",
    "\n",
    "- $[{2020}-{05}-{21} / {05}-{22})$ - cumulative in-patients - ``315``\n",
    "\n",
    "<!--\n",
    "[1] P. Nolan (IEMAG), \"LIVE: Update on coronavirus in Ireland (21/05/2020),\" [VirginMediaNews](https://web.archive.org/web/20201207135558/https://www.facebook.com/VirginMediaNews/videos/286447475729598), May 2020.\n",
    "\n",
    "[2] P. Nolan (IEMAG), \"Twitter Post (No Title) - 21st May,\" [twitter](https://web.archive.org/web/20201221121700/https://twitter.com/President_MU/status/1263547672369278983/photo/1), May 2020.\n",
    "-->"
   ]
  },
  {
   "cell_type": "markdown",
   "metadata": {},
   "source": [
    "***(Image) P. Nolan (IEMAG), \"Twitter Post (No Title) - 21st May,\" [twitter](https://web.archive.org/web/20201221121700/https://twitter.com/President_MU/status/1263547672369278983/photo/1), May 2020.***"
   ]
  },
  {
   "cell_type": "markdown",
   "metadata": {},
   "source": [
    "###### Parameter - ``icu``\n",
    "***"
   ]
  },
  {
   "cell_type": "markdown",
   "metadata": {},
   "source": [
    "[<img style=\"float:right;\" src=\"img/icu-03182020-04162020.png\" target=\"_blank\" width=200/>](https://github.com/E6985/pda-numpy-random-simulation/blob/main/img/icu-03182020-04162020.png)\n",
    "\n",
    "- $[{2020}-{04}-{03} / {04}-{16}]$ - ``icu`` parameter - cumulative admissions to intensive care - reported by the HSE was stable [1][2]\n",
    "\n",
    "<!--\n",
    "[1] P. Nolan (IEMAG), \"LIVE: Health officials confirm latest number of coronavirus cases and deaths (16/04/2020),\" [VirginMediaNews](https://web.archive.org/web/20201207123500if_/https://www.facebook.com/VirginMediaNews/videos/242266480512521), April 2020.\n",
    "\n",
    "[2] Department of Health, \"COVID-19 modelling data - Thursday 16 April 2020,\" [gov](https://web.archive.org/web/20201119120437/https://www.gov.ie/en/publication/ea86cc-covid-19-modelling-data-thursday-16-april-2020), April 2020.\n",
    "-->"
   ]
  },
  {
   "cell_type": "markdown",
   "metadata": {},
   "source": [
    "***(Image) Department of Health, \"COVID-19 modelling data - Thursday 16 April 2020,\" [gov](https://web.archive.org/web/20201119120437/https://www.gov.ie/en/publication/ea86cc-covid-19-modelling-data-thursday-16-april-2020), April 2020.***"
   ]
  },
  {
   "cell_type": "markdown",
   "metadata": {},
   "source": [
    "[<img style=\"float:right;\" src=\"img/04232020-cases-hospital-icu.png\" target=\"_blank\" width=200/>](https://github.com/E6985/pda-numpy-random-simulation/blob/main/img/04232020-cases-hospital-icu.png)\n",
    "\n",
    "- $[{2020}-{04}-{12} / {04}-{16}]$ - ``icu`` parameter - five day moving average - number of people in critical care rose very rapidly during March - was stable in early April - peaking at approximately 160 - since being declining [1][2]\n",
    "\n",
    "<!--\n",
    "[1] P. Nolan (IEMAG), \"LIVE: Daily briefing on coronavirus in Ireland (23/04/2020),\" [VirginMediaNews](https://web.archive.org/web/20201207120754if_/https://www.facebook.com/VirginMediaNews/videos/877654396048507), April 2020.]\n",
    "\n",
    "[2] Department of Health, \"COVID-19 modelling data - Thursday 23 April 2020,\" [gov](https://web.archive.org/web/20201020115335/https://www.gov.ie/en/publication/a950be-covid-19-modelling-data-thursday-23-april-2020), April 2020.]\n",
    "-->"
   ]
  },
  {
   "cell_type": "markdown",
   "metadata": {},
   "source": [
    "***(Image) Department of Health, \"COVID-19 modelling data - Thursday 23 April 2020,\" [gov](https://web.archive.org/web/20201020115335/https://www.gov.ie/en/publication/a950be-covid-19-modelling-data-thursday-23-april-2020), April 2020.***"
   ]
  },
  {
   "cell_type": "markdown",
   "metadata": {},
   "source": [
    "[<img style=\"float:right;\" src=\"img/daily-icu-addmission-5-day-avg-03182020-04302020.png\" target=\"_blank\" width=200/>](https://github.com/E6985/pda-numpy-random-simulation/blob/main/img/daily-icu-addmission-5-day-avg-03182020-04302020.png)\n",
    "\n",
    "- $[{2020}-{04}-{17} / {04}-{30}]$ - up to the end of April occupancy was a little bit over 100 - number of admissions peaking at approximately fourteen per day - down closer to four [1][2]\n",
    "\n",
    "<!--\n",
    "[1] P. Nolan (IEMAG), \"LIVE: Daily coronavirus update from the Department of Health (30/04/2020),\" [VirginMediaNews](https://web.archive.org/web/20201207140237if_/https://www.facebook.com/VirginMediaNews/videos/184315165952881), April 2020.\n",
    "\n",
    "[2] Department of Health, \"COVID-19 modelling data - Thursday 30 April 2020,\" [gov](https://web.archive.org/web/20201101052836/https://www.gov.ie/en/publication/fed29a-covid-19-modelling-data-thursday-30-april-2020), April 2020.\n",
    "-->"
   ]
  },
  {
   "cell_type": "markdown",
   "metadata": {},
   "source": [
    "***(Image) Department of Health, \"COVID-19 modelling data - Thursday 30 April 2020,\" [gov](https://web.archive.org/web/20201101052836/https://www.gov.ie/en/publication/fed29a-covid-19-modelling-data-thursday-30-april-2020), April 2020.***"
   ]
  },
  {
   "cell_type": "markdown",
   "metadata": {},
   "source": [
    "[<img style=\"float:right;\" src=\"img/twitter-icu-occupancy-admissions-05052020.png\" target=\"_blank\" width=200/>](https://github.com/E6985/pda-numpy-random-simulation/blob/main/img/twitter-icu-occupancy-admissions-05052020.png)\n",
    "\n",
    "- $[{2020}-{05}-{01} / {05}-{07}]$ - (blue) up to the 7th May the average number of people in intensive care units each day - average of the preceding week (five day look back) against the left hand axis falling from a peak of 140 or above - at the height of this disease - was a little bit over 100 people in intensive care the last week - 76 as of 7th May [1][2]\n",
    "\n",
    "\n",
    "- (red) the average number of people admitted to intensive care over the preceding five days - previous week that was in the region of four to six people per day (every day) - now fewer than two each day which is a a very significant reduction in the number of people whose disease is sufficiently severe for them to require hospitalisation or intensive care admission [1][2]\n",
    "\n",
    "<!--\n",
    "[1] P. Nolan (IEMAG), \"LIVE at the daily coronavirus briefing as health officials give an update (07/05/2020),\" [VirginMediaNews](https://web.archive.org/web/20201207124157if_/https://www.facebook.com/VirginMediaNews/videos/646196552888811), May 2020.\n",
    "\n",
    "[2] P. Nolan (IEMAG), \"Twitter Post (No Title),\" [twitter](https://web.archive.org/web/20201217084554/https://twitter.com/President_MU/status/1257729864993562624/photo/1), May 2020.\n",
    "-->"
   ]
  },
  {
   "cell_type": "markdown",
   "metadata": {},
   "source": [
    "***(Image) P. Nolan (IEMAG), \"Twitter Post (No Title),\" [twitter](https://web.archive.org/web/20201217084554/https://twitter.com/President_MU/status/1257729864993562624/photo/1), May 2020.***"
   ]
  },
  {
   "cell_type": "markdown",
   "metadata": {},
   "source": [
    "[<img style=\"float:right;\" src=\"img/key-metrics-05142020.png\" target=\"_blank\" width=200/>](https://github.com/E6985/pda-numpy-random-simulation/blob/main/img/key-metrics-05142020.png)\n",
    "\n",
    "- $[{2020}-{05}-{01} / {05}-{13}]$ - icu admissions per day was very high in mid-april - between 8 and 10 people admitted each day - looking back on the two preceding Wednesdays and comparing with mid-April the average over the preceding five days indicates the ``icu`` parameter metric was declining [1][2]\n",
    "\n",
    "\n",
    "- $[{2020}-{04}-{11} / {04}-{16})$ - ``8`` - cumulative ``144``\n",
    "\n",
    "\n",
    "- $[{2020}-{05}-{01} / {05}-{06})$ - ``3`` cumulative ``92``\n",
    "\n",
    "\n",
    "- $[{2020}-{05}-{08} / {05}-{13})$ - ``1`` - cumulative ``69``\n",
    "\n",
    "\n",
    "- $[{2020}-{05}-{14} / {05}-{15})$ - cumulative in-patients - ``58``\n",
    "\n",
    "<!--\n",
    "[1] P. Nolan (IEMAG), \"LIVE: Latest coronavirus cases and deaths announced (14/05/2020),\" [VirginMediaNews](https://web.archive.org/web/20201207124525if_/https://www.facebook.com/VirginMediaNews/videos/663783837807950), May 2020.\n",
    "\n",
    "[2] Department of Health, \"Statement from the National Public Health Emergency Team - Thursday 14 May,\" [gov](https://web.archive.org/web/20201221053711/https://www.gov.ie/en/press-release/d65820-statement-from-the-national-public-health-emergency-team-thursday-14), May 2020.\n",
    "-->"
   ]
  },
  {
   "cell_type": "markdown",
   "metadata": {},
   "source": [
    "***(Screenshot) P. Nolan (IEMAG), \"LIVE: Latest coronavirus cases and deaths announced (14/05/2020),\" [VirginMediaNews](https://web.archive.org/web/20201207124525if_/https://www.facebook.com/VirginMediaNews/videos/663783837807950), May 2020.***"
   ]
  },
  {
   "cell_type": "markdown",
   "metadata": {},
   "source": [
    "[<img style=\"float:right;\" src=\"img/hospital-new-cases-icu-05212020.png\" target=\"_blank\" width=200/>](https://github.com/E6985/pda-numpy-random-simulation/blob/main/img/hospital-new-cases-icu-05212020.png)\n",
    "\n",
    "- $[{2020}-{04}-{12} / {05}-{21}]$ - number of people in icu per day taken as a five day average and looking back each day was declining since the peak in the second week of April [1][2]\n",
    "\n",
    "\n",
    "- $[{2020}-{05}-{16} / {05}-{21})$ - the average of the five days leading up to Wednesday the 20th May had on average 1 new addmission per day with cumulative 52 people in icu - indications are stable [1][2] \n",
    "\n",
    "\n",
    "- $[{2020}-{05}-{21} / {05}-{22})$ - cumulative in-patients - ``52``\n",
    "\n",
    "<!--\n",
    "[1] P. Nolan (IEMAG), \"LIVE: Update on coronavirus in Ireland (21/05/2020),\" [VirginMediaNews](https://web.archive.org/web/20201207135558/https://www.facebook.com/VirginMediaNews/videos/286447475729598), May 2020.\n",
    "\n",
    "[2] P. Nolan (IEMAG), \"Twitter Post (No Title) - 21st May,\" [twitter](https://web.archive.org/web/20201221121700/https://twitter.com/President_MU/status/1263547672369278983/photo/1), May 2020.\n",
    "-->"
   ]
  },
  {
   "cell_type": "markdown",
   "metadata": {},
   "source": [
    "***(Image) P. Nolan (IEMAG), \"Twitter Post (No Title) - 21st May,\" [twitter](https://web.archive.org/web/20201221121700/https://twitter.com/President_MU/status/1263547672369278983/photo/1), May 2020.***"
   ]
  },
  {
   "cell_type": "markdown",
   "metadata": {},
   "source": [
    "###### Parameter - ``deaths``\n",
    "***"
   ]
  },
  {
   "cell_type": "markdown",
   "metadata": {},
   "source": [
    "[<img style=\"float:right;\" src=\"img/log-linear.png\" target=\"_blank\" width=200/>](https://github.com/E6985/pda-numpy-random-simulation/blob/main/img/log-linear.png) \n",
    "\n",
    "- $[{2020}-{03}-{30} / {04}-{16}]$ - ``deaths`` parameter - while unfortunately the number of people dying continued to increase - similar to each of the variables of interest - ``cases`` - ``hospital`` - ``icu`` - rate of growth was decreasing - it was evident there was a considerable slowing in the growth of the epidemic at this stage [1][2]\n",
    "\n",
    "<!--\n",
    "[1] P. Nolan (IEMAG), \"LIVE: Health officials confirm latest number of coronavirus cases and deaths (16/04/2020),\" [VirginMediaNews](https://web.archive.org/web/20201207123500if_/https://www.facebook.com/VirginMediaNews/videos/242266480512521), April 2020.\n",
    "\n",
    "[2] Department of Health, \"COVID-19 modelling data - Thursday 16 April 2020,\" [gov](https://web.archive.org/web/20201119120437/https://www.gov.ie/en/publication/ea86cc-covid-19-modelling-data-thursday-16-april-2020), April 2020.\n",
    "-->"
   ]
  },
  {
   "cell_type": "markdown",
   "metadata": {},
   "source": [
    "***(Image) Department of Health, \"COVID-19 modelling data - Thursday 16 April 2020,\" [gov](https://web.archive.org/web/20201119120437/https://www.gov.ie/en/publication/ea86cc-covid-19-modelling-data-thursday-16-april-2020), April 2020.***"
   ]
  },
  {
   "cell_type": "markdown",
   "metadata": {},
   "source": [
    "[<img style=\"float:right;\" src=\"img/04232020-deaths.png\" target=\"_blank\" width=200/>](https://github.com/E6985/pda-numpy-random-simulation/blob/main/img/04232020-deaths.png) \n",
    "\n",
    "- $[{2020}-{04}-{08} / {04}-{16}]$ - ``deaths`` parameter - obviously changes latest in an epidemic - pale grey bins are the number of deaths per day on the date that they occurred - not on the date that they were reported - most recent data is faded out because there would have sadly some people who passed away in the week prior and not notified - number of deaths per day was relatively stable since the end of the first week in April [1][2]\n",
    "\n",
    "<!--\n",
    "[1] P. Nolan (IEMAG), \"LIVE: Daily briefing on coronavirus in Ireland (23/04/2020),\" [VirginMediaNews](https://web.archive.org/web/20201207120754if_/https://www.facebook.com/VirginMediaNews/videos/877654396048507), April 2020.\n",
    "\n",
    "[2] Department of Health, \"COVID-19 modelling data - Thursday 23 April 2020,\" [gov](https://web.archive.org/web/20201020115335/https://www.gov.ie/en/publication/a950be-covid-19-modelling-data-thursday-23-april-2020), April 2020.\n",
    "-->"
   ]
  },
  {
   "cell_type": "markdown",
   "metadata": {},
   "source": [
    "***(Image) Department of Health, \"COVID-19 modelling data - Thursday 23 April 2020,\" [gov](https://web.archive.org/web/20201020115335/https://www.gov.ie/en/publication/a950be-covid-19-modelling-data-thursday-23-april-2020), April 2020.***"
   ]
  },
  {
   "cell_type": "markdown",
   "metadata": {},
   "source": [
    "[<img style=\"float:right;\" src=\"img/key-metrics-05142020.png\" target=\"_blank\" width=200/>](https://github.com/E6985/pda-numpy-random-simulation/blob/main/img/key-metrics-05142020.png)\n",
    "\n",
    "- $[{2020}-{05}-{01} / {05}-{13}]$ - deaths confirmed per day on average in mid-april was ``33`` - looking back on the two preceding Wednesdays and comparing with mid-April the average over the preceding five days indicates the ``death`` parameter metric was declining [1][2]\n",
    "\n",
    "\n",
    "- $[{2020}-{04}-{11} / {04}-{16})$ - ``33``\n",
    "\n",
    "\n",
    "- $[{2020}-{05}-{01} / {05}-{06})$ - ``21``\n",
    "\n",
    "\n",
    "- $[{2020}-{05}-{08} / {05}-{13})$ - ``13``\n",
    "\n",
    "<!--\n",
    "[1] P. Nolan (IEMAG), \"LIVE: Latest coronavirus cases and deaths announced (14/05/2020),\" [VirginMediaNews](https://web.archive.org/web/20201207124525if_/https://www.facebook.com/VirginMediaNews/videos/663783837807950), May 2020.\n",
    "\n",
    "[2] Department of Health, \"Statement from the National Public Health Emergency Team - Thursday 14 May,\" [gov](https://web.archive.org/web/20201221053711/https://www.gov.ie/en/press-release/d65820-statement-from-the-national-public-health-emergency-team-thursday-14), May 2020.\n",
    "-->"
   ]
  },
  {
   "cell_type": "markdown",
   "metadata": {},
   "source": [
    "***(Screenshot) P. Nolan (IEMAG), \"LIVE: Latest coronavirus cases and deaths announced (14/05/2020),\" [VirginMediaNews](https://web.archive.org/web/20201207124525if_/https://www.facebook.com/VirginMediaNews/videos/663783837807950), May 2020.***"
   ]
  },
  {
   "cell_type": "markdown",
   "metadata": {},
   "source": [
    "- $[{2020}-{05}-{16} / {05}-{21})$ - the average number of deaths confirmed each day of the five days leading up to Wednesday the 20th May and not including probable or suspect continues to decline to an average of ``9`` per day [1]\n",
    "\n",
    "<!--\n",
    "[1] P. Nolan (IEMAG), \"LIVE: Update on coronavirus in Ireland (21/05/2020),\" [VirginMediaNews](https://web.archive.org/web/20201207135558/https://www.facebook.com/VirginMediaNews/videos/286447475729598), May 2020.\n",
    "-->"
   ]
  },
  {
   "cell_type": "markdown",
   "metadata": {},
   "source": [
    "## END"
   ]
  },
  {
   "cell_type": "markdown",
   "metadata": {},
   "source": [
    "< [Problem statement](#top) | [README](https://github.com/E6985/pda-numpy-random-simulation/blob/main/README.md) | [Project Plan](#project-plan) | [Task 1](#task-1) | [Task 3](#task-3) | [Task 4](#task-4) | [References](#references) >\n",
    "<a id=\"task-2\"></a>\n",
    "***\n",
    "## Task 2\n",
    "### Types of Variables - Distributions - Relationships.\n",
    "***"
   ]
  },
  {
   "cell_type": "markdown",
   "metadata": {},
   "source": [
    "- variables of interest - Covid-19 related - i) cumulative daily number of infections - ``cases`` - ii) cumulative daily number of admissions to hospital - ``hospital`` - iii) cumulative daily number of admissions to intensive care units - ``icu`` - cumulative daily number of deaths - ``deaths`` [\n",
    "[...] No Reference.\n",
    "]"
   ]
  },
  {
   "cell_type": "markdown",
   "metadata": {},
   "source": [
    "## END"
   ]
  },
  {
   "cell_type": "markdown",
   "metadata": {},
   "source": [
    "< [Problem statement](#top) | [README](https://github.com/E6985/pda-numpy-random-simulation/blob/main/README.md) | [Project Plan](#project-plan) | [Task 1](#task-1) | [Task 2](#task-2) | [Task 4](#task-4) | [References](#references) >\n",
    "<a id=\"task-3\"></a>\n",
    "***\n",
    "## Task 3\n",
    "### Synthesise/Simulate a Dataset.\n",
    "***"
   ]
  },
  {
   "cell_type": "markdown",
   "metadata": {},
   "source": [
    "## END"
   ]
  },
  {
   "cell_type": "markdown",
   "metadata": {},
   "source": [
    "< [Problem statement](#top) | [README](https://github.com/E6985/pda-numpy-random-simulation/blob/main/README.md) | [Project Plan](#project-plan) | [Task 1](#task-1) | [Task 2](#task-2) | [Task 3](#task-3) | [References](#references) >\n",
    "<a id=\"task-4\"></a>\n",
    "***\n",
    "## Task 4\n",
    "### Implement Simulation.\n",
    "***"
   ]
  },
  {
   "cell_type": "markdown",
   "metadata": {},
   "source": [
    "## END"
   ]
  },
  {
   "cell_type": "markdown",
   "metadata": {},
   "source": [
    "< [Problem statement](#top) | [README](https://github.com/E6985/pda-numpy-random-simulation/blob/main/README.md) | [Project Plan](#project-plan) | [Task 1](#task-1) | [Task 2](#task-2) | [Task 3](#task-3) | [Task 4](#task-4) >\n",
    "<a id=\"references\"></a>\n",
    "***\n",
    "## References\n",
    "***\n",
    "&nbsp;&nbsp;&nbsp;&nbsp;&nbsp;&nbsp;&nbsp;&nbsp;&nbsp;[1] authorNames, referenceTitle, locationWebsiteBookVideo, dateMonthYear.\n",
    "\n",
    "&nbsp;&nbsp;&nbsp;&nbsp;&nbsp;&nbsp;&nbsp;[10]\n",
    "\n",
    "&nbsp;&nbsp;&nbsp;&nbsp;&nbsp;[100]\n",
    "\n",
    "&nbsp;&nbsp;&nbsp;[1000]\n",
    "***"
   ]
  },
  {
   "cell_type": "markdown",
   "metadata": {},
   "source": [
    "## END"
   ]
  },
  {
   "cell_type": "markdown",
   "metadata": {},
   "source": [
    "< [Problem statement](#top) | [README](https://github.com/E6985/pda-numpy-random-simulation/blob/main/README.md) | [Project Plan](#project-plan) | [Task 1](#task-1) | [Task 2](#task-2) | [Task 3](#task-3) | [Task 4](#task-4) | [References](#references) >\n",
    "<a id=\"appendix\"></a>\n",
    "***\n",
    "## Appendix\n",
    "***"
   ]
  },
  {
   "cell_type": "markdown",
   "metadata": {},
   "source": [
    "## END"
   ]
  },
  {
   "cell_type": "markdown",
   "metadata": {},
   "source": [
    "# END JUPYTER NOTEBOOK"
   ]
  }
 ],
 "metadata": {
  "kernelspec": {
   "display_name": "Python 3",
   "language": "python",
   "name": "python3"
  },
  "language_info": {
   "codemirror_mode": {
    "name": "ipython",
    "version": 3
   },
   "file_extension": ".py",
   "mimetype": "text/x-python",
   "name": "python",
   "nbconvert_exporter": "python",
   "pygments_lexer": "ipython3",
   "version": "3.8.3"
  }
 },
 "nbformat": 4,
 "nbformat_minor": 4
}
