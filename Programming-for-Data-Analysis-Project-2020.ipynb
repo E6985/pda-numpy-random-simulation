{
 "cells": [
  {
   "cell_type": "markdown",
   "metadata": {},
   "source": [
    "< [GMIT Data Analytics](https://web.archive.org/web/20201029063153/https://www.gmit.ie/computer-science-and-applied-physics/higher-diploma-science-computing-data-analytics-ict) | [Table of Contents](https://github.com/E6985) | [README](https://github.com/E6985/pda-numpy-random-simulation/blob/main/README.md) >\n",
    "\n",
    "![GMIT](https://github.com/E6985/pda-numpy-random/blob/main/img/gmit.png?raw=true)\n",
    "\n",
    "## Programming for Data Analysis - Project 2020\n",
    "## Due: last commit on or before December 21st, 2020\n",
    "***"
   ]
  },
  {
   "cell_type": "markdown",
   "metadata": {},
   "source": [
    "<a id=\"top\"></a>\n",
    "< [README](https://github.com/E6985/pda-numpy-random-simulation/blob/main/README.md) | [References](#references) >\n",
    "\n",
    "## Problem statement\n",
    "For this project you must create a dataset by simulating a real-world phenomenon of your choosing. You may pick any phenomenon you wish – you might pick one that is of interest to you in your personal or professional life. Then, rather than collect data related to the phenomenon, you should model and synthesise such data using Python. We suggest you use the ``numpy.random`` package for this purpose.\n",
    "\n",
    "Specifically, in this project you should:\n",
    "\n",
    "[Task 1](#task-1). Choose a Real-world Phenomenon.\n",
    "\n",
    "> Real-world phenomenon that can be measured and for which you could collect at least one-hundred data points across at least four different variables.\n",
    "\n",
    "[Task 2](#task-2). Types of Variables - Distributions - Relationships.\n",
    "\n",
    "> Investigate the types of variables involved, their likely distributions, and their relationships with each other.\n",
    "\n",
    "[Task 3](#task-3). Synthesise/Simulate a Dataset.\n",
    "\n",
    "> Synthesise/simulate a dataset as closely matching their properties as possible.\n",
    "\n",
    "[Task 4](#task-4). Implement Simulation.\n",
    "\n",
    "> Implement the simulation in a Jupyter notebook – the dataset itself can simply be displayed in an output cell within the notebook.\n",
    "\n",
    "Note that this project is about simulation – you must synthesise a data set. Some students may already have some real-world datasets in their own files. It is okay to base your synthesised dataset on these should you wish (please reference it if you do), but the main task in this project is to create a synthesised dataset. The next section gives an example project idea.\n",
    "\n",
    "## Example project idea\n",
    "As a lecturer I might pick the real-world phenomenon of the performance of students studying a ten-credit module. After some research, I decide that the most interesting variable related to this is the mark a student receives in the module - this is going to be one of my variables ``(grade)``.\n",
    "\n",
    "Upon investigation of the problem, I find that the number of hours on average a student studies per week ``(hours)``, the number of times they log onto Moodle in the first three weeks of term ``(logins)``, and their previous level of degree qualification ``(qual)`` are closely related to grade. The ``hours`` and ``grade`` variables will be non-negative real number with two decimal places, ``logins`` will be a non-zero integer and ``qual`` will be a categorical variable with four possible values: ``none``, ``bachelors``, ``masters``, or ``phd``.\n",
    "\n",
    "After some online research, I find that full-time post-graduate students study on average four hours per week with a standard deviation of a quarter of an hour and that a normal distribution is an acceptable model of such a variable. Likewise, I investigate the other four variables, and I also look at the relationships between the variables. I devise an algorithm (or method) to generate such a dataset, simulating values of the four variables for two-hundred students. I detail all this work in my notebook, and then I add some code in to generate a dataset with those properties."
   ]
  },
  {
   "cell_type": "markdown",
   "metadata": {},
   "source": [
    "<h1><center>END</center></h1>"
   ]
  },
  {
   "cell_type": "markdown",
   "metadata": {},
   "source": [
    "< [Home](#top) | [README](https://github.com/E6985/pda-numpy-random-simulation/blob/main/README.md) | [References](#references) >\n",
    "<a id=\"task-1\"></a>\n",
    "***\n",
    "## Task 1\n",
    "### Choose a real-world phenomenon.\n",
    "***"
   ]
  },
  {
   "cell_type": "markdown",
   "metadata": {},
   "source": [
    "<h1><center>END</center></h1>"
   ]
  },
  {
   "cell_type": "markdown",
   "metadata": {},
   "source": [
    "< [Home](#top) | [README](https://github.com/E6985/pda-numpy-random-simulation/blob/main/README.md) | [References](#references) >\n",
    "<a id=\"task-2\"></a>\n",
    "***\n",
    "## Task 2\n",
    "### Types of Variables - Distributions - Relationships.\n",
    "***"
   ]
  },
  {
   "cell_type": "markdown",
   "metadata": {},
   "source": [
    "<h1><center>END</center></h1>"
   ]
  },
  {
   "cell_type": "markdown",
   "metadata": {},
   "source": [
    "< [Home](#top) | [README](https://github.com/E6985/pda-numpy-random-simulation/blob/main/README.md) | [References](#references) >\n",
    "<a id=\"task-3\"></a>\n",
    "***\n",
    "## Task 3\n",
    "### Synthesise/Simulate a Dataset.\n",
    "***"
   ]
  },
  {
   "cell_type": "markdown",
   "metadata": {},
   "source": [
    "<h1><center>END</center></h1>"
   ]
  },
  {
   "cell_type": "markdown",
   "metadata": {},
   "source": [
    "< [Home](#top) | [README](https://github.com/E6985/pda-numpy-random-simulation/blob/main/README.md) | [References](#references) >\n",
    "<a id=\"task-4\"></a>\n",
    "***\n",
    "## Task 4\n",
    "### Implement Simulation.\n",
    "***"
   ]
  },
  {
   "cell_type": "markdown",
   "metadata": {},
   "source": [
    "<h1><center>END</center></h1>"
   ]
  },
  {
   "cell_type": "markdown",
   "metadata": {},
   "source": [
    "< [Home](#top) | [README](https://github.com/E6985/pda-numpy-random-simulation/blob/main/README.md) >\n",
    "<a id=\"references\"></a>\n",
    "***\n",
    "## References\n",
    "***"
   ]
  },
  {
   "cell_type": "markdown",
   "metadata": {},
   "source": [
    "&nbsp;&nbsp;&nbsp;&nbsp;&nbsp;&nbsp;&nbsp;&nbsp;&nbsp;[1] authorNames, referenceTitle, locationWebsiteBookVideo, dateMonthYear.\n",
    "\n",
    "&nbsp;&nbsp;&nbsp;&nbsp;&nbsp;&nbsp;&nbsp;[10]\n",
    "\n",
    "&nbsp;&nbsp;&nbsp;&nbsp;&nbsp;[100]\n",
    "\n",
    "&nbsp;&nbsp;&nbsp;[1000]"
   ]
  },
  {
   "cell_type": "markdown",
   "metadata": {},
   "source": [
    "<h1><center>Appendix</center></h1>"
   ]
  },
  {
   "cell_type": "markdown",
   "metadata": {},
   "source": [
    "< [Home](#top) | [README](https://github.com/E6985/pda-numpy-random-simulation/blob/main/README.md) >\n",
    "<a id=\"references\"></a>"
   ]
  },
  {
   "cell_type": "markdown",
   "metadata": {},
   "source": [
    "<h1><center>END</center></h1>"
   ]
  },
  {
   "cell_type": "markdown",
   "metadata": {},
   "source": [
    "<h1><center>END JUPYTER NOTEBOOK</center></h1>"
   ]
  }
 ],
 "metadata": {
  "kernelspec": {
   "display_name": "Python 3",
   "language": "python",
   "name": "python3"
  },
  "language_info": {
   "codemirror_mode": {
    "name": "ipython",
    "version": 3
   },
   "file_extension": ".py",
   "mimetype": "text/x-python",
   "name": "python",
   "nbconvert_exporter": "python",
   "pygments_lexer": "ipython3",
   "version": "3.8.3"
  }
 },
 "nbformat": 4,
 "nbformat_minor": 4
}
